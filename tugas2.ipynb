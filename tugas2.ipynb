{
 "cells": [
  {
   "cell_type": "code",
   "execution_count": 11,
   "id": "bb31231d",
   "metadata": {},
   "outputs": [],
   "source": [
    "class BinaryTreeNode:\n",
    "    def __init__(self, data):\n",
    "        self.data = data\n",
    "        self.leftChild = None\n",
    "        self.rightChild = None\n"
   ]
  },
  {
   "cell_type": "code",
   "execution_count": 2,
   "id": "f8074eef",
   "metadata": {},
   "outputs": [],
   "source": [
    "node1 = BinaryTreeNode(50)\n",
    "node2 = BinaryTreeNode(20)\n",
    "node3 = BinaryTreeNode(45)\n",
    "node4 = BinaryTreeNode(11)\n",
    "node5 = BinaryTreeNode(15)\n",
    "node6 = BinaryTreeNode(30)\n",
    "node7 = BinaryTreeNode(78)"
   ]
  },
  {
   "cell_type": "code",
   "execution_count": 3,
   "id": "4e33f3f6",
   "metadata": {},
   "outputs": [],
   "source": [
    "node1.leftChild = node2\n",
    "node1.rightChild = node3\n",
    "node2.leftChild = node4\n",
    "node2.rightChild = node5\n",
    "node3.leftChild = node6\n",
    "node3.rightChild = node7"
   ]
  },
  {
   "cell_type": "code",
   "execution_count": 4,
   "id": "e294c228",
   "metadata": {},
   "outputs": [
    {
     "name": "stdout",
     "output_type": "stream",
     "text": [
      "Root Node is:\n",
      "50\n"
     ]
    }
   ],
   "source": [
    "print(\"Root Node is:\")\n",
    "print(node1.data)"
   ]
  },
  {
   "cell_type": "code",
   "execution_count": 5,
   "id": "169c91fd",
   "metadata": {},
   "outputs": [
    {
     "name": "stdout",
     "output_type": "stream",
     "text": [
      "left child of the node is:\n",
      "20\n"
     ]
    }
   ],
   "source": [
    "print(\"left child of the node is:\")\n",
    "print(node1.leftChild.data)"
   ]
  },
  {
   "cell_type": "code",
   "execution_count": 6,
   "id": "86a42402",
   "metadata": {},
   "outputs": [
    {
     "name": "stdout",
     "output_type": "stream",
     "text": [
      "right child of the node is:\n",
      "45\n"
     ]
    }
   ],
   "source": [
    "print(\"right child of the node is:\")\n",
    "print(node1.rightChild.data)"
   ]
  },
  {
   "cell_type": "code",
   "execution_count": 7,
   "id": "81cda591",
   "metadata": {},
   "outputs": [
    {
     "name": "stdout",
     "output_type": "stream",
     "text": [
      "Node is:\n",
      "20\n"
     ]
    }
   ],
   "source": [
    "print(\"Node is:\")\n",
    "print(node2.data)"
   ]
  },
  {
   "cell_type": "code",
   "execution_count": 8,
   "id": "b1ae34a9",
   "metadata": {},
   "outputs": [
    {
     "name": "stdout",
     "output_type": "stream",
     "text": [
      "left child of the node is:\n",
      "11\n"
     ]
    }
   ],
   "source": [
    "print(\"left child of the node is:\")\n",
    "print(node2.leftChild.data)"
   ]
  },
  {
   "cell_type": "code",
   "execution_count": 9,
   "id": "456f10f2",
   "metadata": {},
   "outputs": [
    {
     "name": "stdout",
     "output_type": "stream",
     "text": [
      "right child of the node is:\n",
      "15\n"
     ]
    }
   ],
   "source": [
    "print(\"right child of the node is:\")\n",
    "print(node2.rightChild.data)"
   ]
  },
  {
   "cell_type": "code",
   "execution_count": 10,
   "id": "b3d4110f",
   "metadata": {},
   "outputs": [
    {
     "name": "stdout",
     "output_type": "stream",
     "text": [
      "Node is:\n",
      "45\n"
     ]
    }
   ],
   "source": [
    "print(\"Node is:\")\n",
    "print(node3.data)"
   ]
  },
  {
   "cell_type": "code",
   "execution_count": 12,
   "id": "31541a8b",
   "metadata": {},
   "outputs": [
    {
     "name": "stdout",
     "output_type": "stream",
     "text": [
      "left child of the node is:\n",
      "30\n"
     ]
    }
   ],
   "source": [
    "print(\"left child of the node is:\")\n",
    "print(node3.leftChild.data)"
   ]
  },
  {
   "cell_type": "code",
   "execution_count": 13,
   "id": "09cf14be",
   "metadata": {},
   "outputs": [
    {
     "name": "stdout",
     "output_type": "stream",
     "text": [
      "right child of the node is:\n",
      "78\n"
     ]
    }
   ],
   "source": [
    "print(\"right child of the node is:\")\n",
    "print(node3.rightChild.data)"
   ]
  },
  {
   "cell_type": "code",
   "execution_count": 25,
   "id": "a233cfaa",
   "metadata": {},
   "outputs": [
    {
     "name": "stdout",
     "output_type": "stream",
     "text": [
      "Node is:\n",
      "11\n"
     ]
    }
   ],
   "source": [
    "print(\"Node is:\")\n",
    "print(node4.data)"
   ]
  },
  {
   "cell_type": "code",
   "execution_count": 26,
   "id": "85db3da7",
   "metadata": {},
   "outputs": [
    {
     "name": "stdout",
     "output_type": "stream",
     "text": [
      "left child of the node is:\n",
      "None\n"
     ]
    }
   ],
   "source": [
    "print(\"left child of the node is:\")\n",
    "print(node4.leftChild)"
   ]
  },
  {
   "cell_type": "code",
   "execution_count": 15,
   "id": "4d465fda",
   "metadata": {},
   "outputs": [
    {
     "name": "stdout",
     "output_type": "stream",
     "text": [
      "right child of the node is:\n",
      "None\n"
     ]
    }
   ],
   "source": [
    "print(\"right child of the node is:\")\n",
    "print(node4.rightChild)"
   ]
  },
  {
   "cell_type": "code",
   "execution_count": 16,
   "id": "f6ac7360",
   "metadata": {},
   "outputs": [
    {
     "name": "stdout",
     "output_type": "stream",
     "text": [
      "Node is:\n",
      "15\n"
     ]
    }
   ],
   "source": [
    "print(\"Node is:\")\n",
    "print(node5.data)"
   ]
  },
  {
   "cell_type": "code",
   "execution_count": 17,
   "id": "0ddcffb4",
   "metadata": {},
   "outputs": [
    {
     "name": "stdout",
     "output_type": "stream",
     "text": [
      "left child of the node is:\n",
      "None\n"
     ]
    }
   ],
   "source": [
    "print(\"left child of the node is:\")\n",
    "print(node5.leftChild)"
   ]
  },
  {
   "cell_type": "code",
   "execution_count": 18,
   "id": "b2d9950f",
   "metadata": {},
   "outputs": [
    {
     "name": "stdout",
     "output_type": "stream",
     "text": [
      "right child of the node is:\n",
      "None\n"
     ]
    }
   ],
   "source": [
    "print(\"right child of the node is:\")\n",
    "print(node5.rightChild)"
   ]
  },
  {
   "cell_type": "code",
   "execution_count": 19,
   "id": "3a0c4c88",
   "metadata": {},
   "outputs": [
    {
     "name": "stdout",
     "output_type": "stream",
     "text": [
      "Node is:\n",
      "30\n"
     ]
    }
   ],
   "source": [
    "print(\"Node is:\")\n",
    "print(node6.data)"
   ]
  },
  {
   "cell_type": "code",
   "execution_count": 20,
   "id": "6d80c277",
   "metadata": {},
   "outputs": [
    {
     "name": "stdout",
     "output_type": "stream",
     "text": [
      "left child of the node is:\n",
      "None\n"
     ]
    }
   ],
   "source": [
    "print(\"left child of the node is:\")\n",
    "print(node6.leftChild)"
   ]
  },
  {
   "cell_type": "code",
   "execution_count": 21,
   "id": "e8c68d79",
   "metadata": {},
   "outputs": [
    {
     "name": "stdout",
     "output_type": "stream",
     "text": [
      "right child of the node is:\n",
      "None\n"
     ]
    }
   ],
   "source": [
    "print(\"right child of the node is:\")\n",
    "print(node6.rightChild)"
   ]
  },
  {
   "cell_type": "code",
   "execution_count": 22,
   "id": "c7c0a890",
   "metadata": {},
   "outputs": [
    {
     "name": "stdout",
     "output_type": "stream",
     "text": [
      "Node is:\n",
      "78\n"
     ]
    }
   ],
   "source": [
    "print(\"Node is:\")\n",
    "print(node7.data)"
   ]
  },
  {
   "cell_type": "code",
   "execution_count": 23,
   "id": "1f06be7c",
   "metadata": {},
   "outputs": [
    {
     "name": "stdout",
     "output_type": "stream",
     "text": [
      "left child of the node is:\n",
      "None\n"
     ]
    }
   ],
   "source": [
    "print(\"left child of the node is:\")\n",
    "print(node7.leftChild)"
   ]
  },
  {
   "cell_type": "code",
   "execution_count": 24,
   "id": "6f622e22",
   "metadata": {},
   "outputs": [
    {
     "name": "stdout",
     "output_type": "stream",
     "text": [
      "right child of the node is:\n",
      "None\n"
     ]
    }
   ],
   "source": [
    "print(\"right child of the node is:\")\n",
    "print(node7.rightChild)"
   ]
  }
 ],
 "metadata": {
  "kernelspec": {
   "display_name": "Python 3 (ipykernel)",
   "language": "python",
   "name": "python3"
  },
  "language_info": {
   "codemirror_mode": {
    "name": "ipython",
    "version": 3
   },
   "file_extension": ".py",
   "mimetype": "text/x-python",
   "name": "python",
   "nbconvert_exporter": "python",
   "pygments_lexer": "ipython3",
   "version": "3.9.13"
  }
 },
 "nbformat": 4,
 "nbformat_minor": 5
}
