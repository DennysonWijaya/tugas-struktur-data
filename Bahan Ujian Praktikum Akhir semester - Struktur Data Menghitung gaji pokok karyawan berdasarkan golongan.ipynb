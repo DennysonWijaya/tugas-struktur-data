{
 "cells": [
  {
   "cell_type": "code",
   "execution_count": null,
   "id": "9cd79c2e",
   "metadata": {},
   "outputs": [],
   "source": [
    "#Program untuk menghitung gaji pokok karyawan berdasarkan golongan \n",
    "#Program di buat oleh Dennyson Wijaya\n",
    "#NIM : 2220113955\n",
    "#Program Studi : Sistem Informasi\n",
    "#Semester: 2\n",
    "#Kelas : M-1\n",
    "#Mata Kuliah : Struktur Data\n",
    "#Nama Dosen : Wilianto Gan\n",
    "# Bahan Ujian Praktikum Akhir semester - Struktur Data\n",
    "#Jenis Ujian : UAS"
   ]
  },
  {
   "cell_type": "markdown",
   "id": "5e70fe63",
   "metadata": {},
   "source": [
    "# Menghitung gaji pokok karyawan berdasarkan golongan"
   ]
  },
  {
   "cell_type": "code",
   "execution_count": null,
   "id": "f61e947d",
   "metadata": {},
   "outputs": [],
   "source": [
    "def hitung_gaji(golongan, jam_kerja):\n",
    "    gaji_pokok = {\n",
    "        \"A\": 10000000,\n",
    "        \"B\": 7000000,\n",
    "        \"C\": 5000000,\n",
    "        \"D\": 3000000\n",
    "    }\n",
    "    \n",
    "    if golongan in gaji_pokok:\n",
    "        if jam_kerja <= 40:\n",
    "            gaji_total = gaji_pokok[golongan]\n",
    "        else:\n",
    "            gaji_lembur = (jam_kerja - 40) * (gaji_pokok[golongan] / 40) * 1.5\n",
    "            gaji_total = gaji_pokok[golongan] + gaji_lembur\n",
    "        return gaji_total\n",
    "    else:\n",
    "        return None\n",
    "\n",
    "while True:\n",
    "    print(\"Selamat datang di Kalkulator Gaji Karyawan\")\n",
    "    golongan = input(\"Masukkan golongan (A, B, C, D): \")\n",
    "    jam_kerja = int(input(\"Masukkan jam kerja per bulan: \"))\n",
    "\n",
    "    gaji = hitung_gaji(golongan, jam_kerja)\n",
    "    if gaji is not None:\n",
    "        print(\"===========================================\")\n",
    "        print(\"Hasil perhitungan gaji karyawan:\")\n",
    "        print(f\"Golongan: {golongan}\")\n",
    "        print(f\"Jam Kerja: {jam_kerja} jam/bulan\")\n",
    "        print(f\"Gaji Total: Rp {gaji}\")\n",
    "        print(\"===========================================\")\n",
    "        break\n",
    "    else:\n",
    "        print(\"Maaf, golongan yang Anda masukkan tidak valid. Silakan coba lagi.\")\n"
   ]
  }
 ],
 "metadata": {
  "kernelspec": {
   "display_name": "Python 3 (ipykernel)",
   "language": "python",
   "name": "python3"
  },
  "language_info": {
   "codemirror_mode": {
    "name": "ipython",
    "version": 3
   },
   "file_extension": ".py",
   "mimetype": "text/x-python",
   "name": "python",
   "nbconvert_exporter": "python",
   "pygments_lexer": "ipython3",
   "version": "3.9.13"
  }
 },
 "nbformat": 4,
 "nbformat_minor": 5
}
