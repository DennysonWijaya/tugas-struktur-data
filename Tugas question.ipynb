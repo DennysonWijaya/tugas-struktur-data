{
 "cells": [
  {
   "cell_type": "markdown",
   "id": "bf392f80",
   "metadata": {},
   "source": [
    "# Q1 Use a single list to implement three stacks"
   ]
  },
  {
   "cell_type": "code",
   "execution_count": 1,
   "id": "298571b6",
   "metadata": {},
   "outputs": [
    {
     "name": "stdout",
     "output_type": "stream",
     "text": [
      "False\n",
      "True\n",
      "2\n"
     ]
    }
   ],
   "source": [
    "class MultiStack:\n",
    "    def __init__(self, stacksize):\n",
    "        self.numberstacks = 3\n",
    "        self.custList = [0] * (stacksize * self.numberstacks)\n",
    "        self.sizes = [0] * self.numberstacks\n",
    "        self.stacksize = stacksize\n",
    "    \n",
    "    def isFull(self, stacknum):\n",
    "        if self.sizes[stacknum] == self.stacksize:\n",
    "            return True\n",
    "        else:\n",
    "            return False\n",
    "    \n",
    "    def isEmpty(self, stacknum):\n",
    "        if self.sizes[stacknum] == 0:\n",
    "            return True\n",
    "        else:\n",
    "            return False\n",
    "    \n",
    "    def indexOfTop(self, stacknum):\n",
    "        offset = stacknum * self.stacksize\n",
    "        return offset + self.sizes[stacknum]- 1\n",
    "    \n",
    "    def push(self, item, stacknum):\n",
    "        if self.isFull(stacknum):\n",
    "            return \"The stack is full\"\n",
    "        else:\n",
    "            self.sizes[stacknum] += 1\n",
    "            self.custList[self.indexOfTop(stacknum)] = item\n",
    "    \n",
    "    def pop(self, stacknum):\n",
    "        if self.isEmpty(stacknum):\n",
    "            return \"The stack is empty\"\n",
    "        else:\n",
    "            value = self.custList[self.indexOfTop(stacknum)]\n",
    "            self.custList[self.indexOfTop(stacknum)] = 0\n",
    "            self.sizes[stacknum] -= 1\n",
    "            return value\n",
    "    \n",
    "    def peek(self, stacknum):\n",
    "        if self.isEmpty(stacknum):\n",
    "            return \"The stack is empty\"\n",
    "        else:\n",
    "            value = self.custList[self.indexOfTop(stacknum)]\n",
    "            return value\n",
    "\n",
    "\n",
    "customStack = MultiStack(6)\n",
    "print(customStack.isFull(0))\n",
    "print(customStack.isEmpty(1))\n",
    "customStack.push(1, 0)\n",
    "customStack.push(2, 0)\n",
    "customStack.push(3, 2)\n",
    "print(customStack.pop(0))"
   ]
  },
  {
   "cell_type": "markdown",
   "id": "62c34b90",
   "metadata": {},
   "source": [
    "# Q2  Create Stack with min method"
   ]
  },
  {
   "cell_type": "code",
   "execution_count": 2,
   "id": "6fad0a00",
   "metadata": {},
   "outputs": [
    {
     "name": "stdout",
     "output_type": "stream",
     "text": [
      "5\n",
      "5\n",
      "3\n",
      "5\n"
     ]
    }
   ],
   "source": [
    "class Node():\n",
    "    def __init__(self, value=None, next = None):\n",
    "        self.value = value\n",
    "        self.next = next\n",
    "    \n",
    "    def __str__(self):\n",
    "        string = str(self.value)\n",
    "        if self.next:\n",
    "            string += ',' + str(self.next)\n",
    "        return string\n",
    "\n",
    "class Stack():\n",
    "    def __init__(self):\n",
    "        self.top = None\n",
    "        self.minNode = None\n",
    "    \n",
    "    def min(self):\n",
    "        if not self.minNode:\n",
    "            return None\n",
    "        return self.minNode.value\n",
    "    \n",
    "    def push(self, item):\n",
    "        if self.minNode and (self.minNode.value < item):\n",
    "            self.minNode = Node(value = self.minNode.value, next=self.minNode)\n",
    "        else:\n",
    "            self.minNode = Node(value = item, next=self.minNode)\n",
    "        self.top = Node(value=item, next=self.top)\n",
    "    \n",
    "    def pop(self):\n",
    "        if not self.top:\n",
    "            return None\n",
    "        self.minNode = self.minNode.next\n",
    "        item = self.top.value\n",
    "        self.top = self.top.next\n",
    "        return item\n",
    "\n",
    "customStack = Stack()\n",
    "customStack.push(5)\n",
    "print(customStack.min())\n",
    "customStack.push(6)\n",
    "print(customStack.min())\n",
    "customStack.push(3)\n",
    "print(customStack.min())\n",
    "customStack.pop()\n",
    "print(customStack.min())\n"
   ]
  },
  {
   "cell_type": "markdown",
   "id": "10825911",
   "metadata": {},
   "source": [
    "# Q3 Stack Plates"
   ]
  },
  {
   "cell_type": "code",
   "execution_count": 3,
   "id": "1aecbf67",
   "metadata": {},
   "outputs": [
    {
     "name": "stdout",
     "output_type": "stream",
     "text": [
      "4\n"
     ]
    }
   ],
   "source": [
    "class PlateStack():\n",
    "    def __init__(self, capacity):\n",
    "        self.capacity = capacity\n",
    "        self.stacks = []\n",
    "    \n",
    "    def __str__(self):\n",
    "        return self.stacks\n",
    "    \n",
    "    def push(self, item):\n",
    "        if len(self.stacks) > 0 and (len(self.stacks[-1])) < self.capacity:\n",
    "            self.stacks[-1].append(item)\n",
    "        else:\n",
    "            self.stacks.append([item])\n",
    "    \n",
    "    def pop(self):\n",
    "        while len(self.stacks) and len(self.stacks[-1]) == 0:\n",
    "            self.stacks.pop()\n",
    "        if len(self.stacks) == 0:\n",
    "            return None\n",
    "        else:\n",
    "            return self.stacks[-1].pop()\n",
    "    \n",
    "    def pop_at(self, stackNumber):\n",
    "        if len(self.stacks[stackNumber]) > 0:\n",
    "            return self.stacks[stackNumber].pop()\n",
    "        else:\n",
    "            return None\n",
    "\n",
    "\n",
    "customStack= PlateStack(2)\n",
    "customStack.push(1)\n",
    "customStack.push(2)\n",
    "customStack.push(3)\n",
    "customStack.push(4)\n",
    "print(customStack.pop_at(1))"
   ]
  },
  {
   "cell_type": "markdown",
   "id": "9e3dad2d",
   "metadata": {},
   "source": [
    "# Q3 Implement a queue using two stacks"
   ]
  },
  {
   "cell_type": "code",
   "execution_count": 4,
   "id": "aa0f9732",
   "metadata": {},
   "outputs": [
    {
     "name": "stdout",
     "output_type": "stream",
     "text": [
      "1\n",
      "2\n"
     ]
    }
   ],
   "source": [
    "class Stack():\n",
    "  def __init__(self):\n",
    "    self.list = []\n",
    "  \n",
    "  def __len__(self):\n",
    "    return len(self.list)\n",
    "  \n",
    "  def push(self, item):\n",
    "    self.list.append(item)\n",
    "  \n",
    "  def pop(self):\n",
    "    if len(self.list) == 0:\n",
    "      return None\n",
    "    return self.list.pop()\n",
    "\n",
    "class QueueviaStack():\n",
    "  def __init__(self):\n",
    "    self.inStack = Stack()\n",
    "    self.outStack = Stack()\n",
    "  \n",
    "  def enqueue(self, item):\n",
    "    self.inStack.push(item)\n",
    "  \n",
    "  def dequeue(self):\n",
    "    while len(self.inStack):\n",
    "      self.outStack.push(self.inStack.pop())\n",
    "    result = self.outStack.pop()\n",
    "    while len(self.outStack):\n",
    "      self.inStack.push(self.outStack.pop())\n",
    "    return result\n",
    "  \n",
    "\n",
    "customQueue = QueueviaStack()\n",
    "customQueue.enqueue(1)\n",
    "customQueue.enqueue(2)\n",
    "customQueue.enqueue(3)\n",
    "print(customQueue.dequeue())\n",
    "customQueue.enqueue(4)\n",
    "print(customQueue.dequeue())"
   ]
  },
  {
   "cell_type": "markdown",
   "id": "90352220",
   "metadata": {},
   "source": [
    "# Q5 Animal Shelter"
   ]
  },
  {
   "cell_type": "code",
   "execution_count": 5,
   "id": "8ca6678d",
   "metadata": {},
   "outputs": [
    {
     "name": "stdout",
     "output_type": "stream",
     "text": [
      "Cat1\n"
     ]
    }
   ],
   "source": [
    "class AnimalShelter():\n",
    "  def __init__(self):\n",
    "    self.cats = []\n",
    "    self.dogs = []\n",
    "  \n",
    "  def enqueue(self, animal, type):\n",
    "    if type == 'Cat':\n",
    "      self.cats.append(animal)\n",
    "    else:\n",
    "      self.dogs.append(animal)\n",
    "    \n",
    "  def dequeueCat(self):\n",
    "    if len(self.cats) == 0:\n",
    "      return None\n",
    "    else:\n",
    "      cat = self.cats.pop(0)\n",
    "      return cat\n",
    "  \n",
    "  def dequeueDog(self):\n",
    "    if len(self.dogs) == 0:\n",
    "      return None\n",
    "    else:\n",
    "      dog = self.dogs.pop(0)\n",
    "      return dog\n",
    "  \n",
    "  def dequeueAny(self):\n",
    "    if len(self.cats) == 0:\n",
    "      result = self.dogs.pop(0)\n",
    "    else:\n",
    "      result = self.cats.pop(0)\n",
    "    return result\n",
    "\n",
    "customQueue = AnimalShelter()\n",
    "customQueue.enqueue('Cat1', 'Cat')\n",
    "customQueue.enqueue('Cat2', 'Cat')\n",
    "customQueue.enqueue('Dog1', 'Dog')\n",
    "customQueue.enqueue('Cat3', 'Cat')\n",
    "customQueue.enqueue('Dog2', 'Dog')\n",
    "print(customQueue.dequeueAny())"
   ]
  },
  {
   "cell_type": "markdown",
   "id": "b0573831",
   "metadata": {},
   "source": [
    "# Q6 Sort Stack"
   ]
  },
  {
   "cell_type": "code",
   "execution_count": 6,
   "id": "3aec4e5d",
   "metadata": {},
   "outputs": [
    {
     "name": "stderr",
     "output_type": "stream",
     "text": [
      "E\n",
      "======================================================================\n",
      "ERROR: C:\\Users\\User\\AppData\\Roaming\\jupyter\\runtime\\kernel-3414b322-479c-4762-8e60-c8ae2f9a0701 (unittest.loader._FailedTest)\n",
      "----------------------------------------------------------------------\n",
      "AttributeError: module '__main__' has no attribute 'C:\\Users\\User\\AppData\\Roaming\\jupyter\\runtime\\kernel-3414b322-479c-4762-8e60-c8ae2f9a0701'\n",
      "\n",
      "----------------------------------------------------------------------\n",
      "Ran 1 test in 0.001s\n",
      "\n",
      "FAILED (errors=1)\n"
     ]
    },
    {
     "ename": "SystemExit",
     "evalue": "True",
     "output_type": "error",
     "traceback": [
      "An exception has occurred, use %tb to see the full traceback.\n",
      "\u001b[1;31mSystemExit\u001b[0m\u001b[1;31m:\u001b[0m True\n"
     ]
    },
    {
     "name": "stderr",
     "output_type": "stream",
     "text": [
      "C:\\Users\\User\\anaconda3\\lib\\site-packages\\IPython\\core\\interactiveshell.py:3465: UserWarning: To exit: use 'exit', 'quit', or Ctrl-D.\n",
      "  warn(\"To exit: use 'exit', 'quit', or Ctrl-D.\", stacklevel=1)\n"
     ]
    }
   ],
   "source": [
    "def sort_stack(stack):\n",
    "  previous = stack.pop()\n",
    "  current = stack.pop()\n",
    "  temp = Stack()\n",
    "  while current:\n",
    "    if previous < current:\n",
    "      temp.push(previous)\n",
    "      previous = current\n",
    "      current = stack.pop()\n",
    "    else: \n",
    "      temp.push(current)\n",
    "      current = stack.pop()\n",
    "    if current == None and previous: temp.push(previous)\n",
    "       \n",
    "  sorted = True\n",
    "  previous = temp.pop()\n",
    "  current = temp.pop()\n",
    "  while current:\n",
    "    if previous > current:\n",
    "      stack.push(previous)\n",
    "      previous = current\n",
    "      current = temp.pop()\n",
    "    else: \n",
    "      stack.push(current)\n",
    "      current = temp.pop()\n",
    "      sorted = False\n",
    "    if current == None and previous: stack.push(previous)\n",
    "  if sorted: return stack\n",
    "  else: return sort_stack(stack)\n",
    "\n",
    "class Stack():\n",
    "  def __init__(self):\n",
    "    self.top = None\n",
    "  \n",
    "  def __str__(self):\n",
    "    return str(self.top)\n",
    "  \n",
    "  def push(self, item):\n",
    "    self.top = current(item, self.top)\n",
    "  \n",
    "  def pop(self):\n",
    "    if not self.top:\n",
    "      return None\n",
    "    item = self.top\n",
    "    self.top = self.top.next\n",
    "    return item.data\n",
    "\n",
    "class current():\n",
    "  def __init__(self, data=None, next=None):\n",
    "    self.data, self.next = data, next\n",
    "  \n",
    "  def __str__(self):\n",
    "    return str(self and self.data) + ',' + str(self and self.next)\n",
    "\n",
    "import unittest\n",
    "\n",
    "class Test(unittest.TestCase):\n",
    "  def test_sort_stack(self):\n",
    "    self.assertEqual(str(sort_stack(Stack())), \"None\")\n",
    "    stack = Stack()\n",
    "    stack.push(10)\n",
    "    stack.push(30)\n",
    "    stack.push(70)\n",
    "    stack.push(40)\n",
    "    stack.push(80)\n",
    "    stack.push(20)\n",
    "    stack.push(90)\n",
    "    stack.push(50)\n",
    "    stack.push(60)\n",
    "    self.assertEqual(str(stack), \"60,50,90,20,80,40,70,30,10,None\")\n",
    "    self.assertEqual(str(sort_stack(stack)), \"10,20,30,40,50,60,70,80,90,None\")\n",
    "\n",
    "unittest.main()"
   ]
  },
  {
   "cell_type": "code",
   "execution_count": null,
   "id": "c7007b01",
   "metadata": {},
   "outputs": [],
   "source": []
  }
 ],
 "metadata": {
  "kernelspec": {
   "display_name": "Python 3 (ipykernel)",
   "language": "python",
   "name": "python3"
  },
  "language_info": {
   "codemirror_mode": {
    "name": "ipython",
    "version": 3
   },
   "file_extension": ".py",
   "mimetype": "text/x-python",
   "name": "python",
   "nbconvert_exporter": "python",
   "pygments_lexer": "ipython3",
   "version": "3.9.13"
  }
 },
 "nbformat": 4,
 "nbformat_minor": 5
}
