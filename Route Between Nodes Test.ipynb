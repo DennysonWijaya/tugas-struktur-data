{
 "cells": [
  {
   "cell_type": "markdown",
   "id": "e3a31197",
   "metadata": {},
   "source": [
    "# Route BetweenNodes Test"
   ]
  },
  {
   "cell_type": "code",
   "execution_count": null,
   "id": "3a936abf",
   "metadata": {},
   "outputs": [],
   "source": [
    "class Graph:\n",
    "    def __init__(self, gdict=None):\n",
    "        if gdict is None:\n",
    "            gdict = {}\n",
    "        self.gdict = gdict\n",
    "    \n",
    "    def addEdge(self, vertex, edge):\n",
    "        self.gdict[vertex] = edge\n",
    "    \n",
    "    def checkRoute(self, startNode, endNode):\n",
    "        visited = []\n",
    "        queue = [startNode]\n",
    "        path = []\n",
    "        if startNode == endNode:\n",
    "            return [startNode]\n",
    "        while queue:\n",
    "            deVertex = queue.pop(0)\n",
    "            path.append(deVertex)\n",
    "            if deVertex not in visited:\n",
    "                visited.append(deVertex)\n",
    "            if deVertex == endNode:\n",
    "                return path\n",
    "            adjacentVertices = self.gdict[deVertex]\n",
    "            for adjacentVertex in adjacentVertices:\n",
    "                if adjacentVertex not in visited:\n",
    "                    queue.append(adjacentVertex)\n",
    "        return None\n",
    "\n",
    "# Creating a graph object\n",
    "customDict = {\n",
    "    \"a\": [\"b\", \"c\"],\n",
    "    \"b\": [\"d\"],\n",
    "    \"c\": [\"e\"],\n",
    "    \"d\": [\"f\"],\n",
    "    \"e\": [\"d\", \"f\"],\n",
    "    \"f\": [\"g\"],\n",
    "    \"g\": [\"h\"],\n",
    "    \"h\": [\"i\"],\n",
    "    \"i\": [\"j\"],\n",
    "    \"j\": []\n",
    "}\n",
    "\n",
    "g = Graph(customDict)\n",
    "print(g.checkRoute(\"a\", \"j\"))"
   ]
  }
 ],
 "metadata": {
  "kernelspec": {
   "display_name": "Python 3 (ipykernel)",
   "language": "python",
   "name": "python3"
  },
  "language_info": {
   "codemirror_mode": {
    "name": "ipython",
    "version": 3
   },
   "file_extension": ".py",
   "mimetype": "text/x-python",
   "name": "python",
   "nbconvert_exporter": "python",
   "pygments_lexer": "ipython3",
   "version": "3.9.13"
  }
 },
 "nbformat": 4,
 "nbformat_minor": 5
}
