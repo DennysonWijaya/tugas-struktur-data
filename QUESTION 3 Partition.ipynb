{
 "cells": [
  {
   "cell_type": "markdown",
   "id": "c214f816",
   "metadata": {},
   "source": [
    "# QUESTION 3 Partition"
   ]
  },
  {
   "cell_type": "code",
   "execution_count": 9,
   "id": "32c20425",
   "metadata": {},
   "outputs": [
    {
     "ename": "ModuleNotFoundError",
     "evalue": "No module named 'LinkedList'",
     "output_type": "error",
     "traceback": [
      "\u001b[1;31m---------------------------------------------------------------------------\u001b[0m",
      "\u001b[1;31mModuleNotFoundError\u001b[0m                       Traceback (most recent call last)",
      "\u001b[1;32m~\\AppData\\Local\\Temp\\ipykernel_6420\\3952657478.py\u001b[0m in \u001b[0;36m<module>\u001b[1;34m\u001b[0m\n\u001b[1;32m----> 1\u001b[1;33m \u001b[1;32mfrom\u001b[0m \u001b[0mLinkedList\u001b[0m \u001b[1;32mimport\u001b[0m \u001b[0mLinkedList\u001b[0m\u001b[1;33m\u001b[0m\u001b[1;33m\u001b[0m\u001b[0m\n\u001b[0m\u001b[0;32m      2\u001b[0m \u001b[1;33m\u001b[0m\u001b[0m\n\u001b[0;32m      3\u001b[0m \u001b[1;32mdef\u001b[0m \u001b[0mpartition\u001b[0m\u001b[1;33m(\u001b[0m\u001b[0mll\u001b[0m\u001b[1;33m,\u001b[0m \u001b[0mx\u001b[0m\u001b[1;33m)\u001b[0m\u001b[1;33m:\u001b[0m\u001b[1;33m\u001b[0m\u001b[1;33m\u001b[0m\u001b[0m\n\u001b[0;32m      4\u001b[0m     \u001b[0mcurNode\u001b[0m \u001b[1;33m=\u001b[0m \u001b[0mll\u001b[0m\u001b[1;33m.\u001b[0m\u001b[0mhead\u001b[0m\u001b[1;33m\u001b[0m\u001b[1;33m\u001b[0m\u001b[0m\n\u001b[0;32m      5\u001b[0m     \u001b[0mll\u001b[0m\u001b[1;33m.\u001b[0m\u001b[0mtail\u001b[0m \u001b[1;33m=\u001b[0m \u001b[0mll\u001b[0m\u001b[1;33m.\u001b[0m\u001b[0mhead\u001b[0m\u001b[1;33m\u001b[0m\u001b[1;33m\u001b[0m\u001b[0m\n",
      "\u001b[1;31mModuleNotFoundError\u001b[0m: No module named 'LinkedList'"
     ]
    }
   ],
   "source": [
    "from LinkedList import LinkedList\n",
    "\n",
    "def partition(ll, x):\n",
    "    curNode = ll.head\n",
    "    ll.tail = ll.head\n",
    "\n",
    "    while curNode:\n",
    "        nextNode = curNode.next\n",
    "        curNode.next = None\n",
    "        if curNode.value < x:\n",
    "            curNode.next = ll.head\n",
    "            ll.head = curNode\n",
    "        else:\n",
    "            ll.tail.next = curNode\n",
    "            ll.tail = curNode\n",
    "        curNode = nextNode\n",
    "    \n",
    "    if ll.tail.next is not None:\n",
    "        ll.tail.next = None\n",
    "\n",
    "customLL = LinkedList()\n",
    "customLL.generate(10,0,99)\n",
    "print(customLL)\n",
    "partition(customLL, 30)\n",
    "print(customLL)"
   ]
  },
  {
   "cell_type": "code",
   "execution_count": null,
   "id": "97ea5eb6",
   "metadata": {},
   "outputs": [],
   "source": []
  }
 ],
 "metadata": {
  "kernelspec": {
   "display_name": "Python 3 (ipykernel)",
   "language": "python",
   "name": "python3"
  },
  "language_info": {
   "codemirror_mode": {
    "name": "ipython",
    "version": 3
   },
   "file_extension": ".py",
   "mimetype": "text/x-python",
   "name": "python",
   "nbconvert_exporter": "python",
   "pygments_lexer": "ipython3",
   "version": "3.9.13"
  }
 },
 "nbformat": 4,
 "nbformat_minor": 5
}
