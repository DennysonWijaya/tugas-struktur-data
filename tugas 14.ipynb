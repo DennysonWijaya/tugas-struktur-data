{
 "cells": [
  {
   "cell_type": "markdown",
   "id": "7bb940d6",
   "metadata": {},
   "source": [
    "# Activity Selection"
   ]
  },
  {
   "cell_type": "code",
   "execution_count": 1,
   "id": "91f50fca",
   "metadata": {},
   "outputs": [
    {
     "name": "stdout",
     "output_type": "stream",
     "text": [
      "A3\n",
      "A2\n",
      "A5\n",
      "A6\n"
     ]
    }
   ],
   "source": [
    "activities = [[\"A1\", 0, 6],\n",
    "              [\"A2\", 3, 4],\n",
    "              [\"A3\", 1, 2],\n",
    "              [\"A4\", 5, 8],\n",
    "              [\"A5\", 5, 7],\n",
    "              [\"A6\", 8, 9]\n",
    "                ]\n",
    "\n",
    "\n",
    "def printMaxActivities(activities):\n",
    "    activities.sort(key=lambda x: x[2])\n",
    "    i = 0\n",
    "    firstA = activities[i][0]\n",
    "    print(firstA)\n",
    "    for j in range(len(activities)):\n",
    "        if activities[j][1] > activities[i][2]:\n",
    "            print(activities[j][0])\n",
    "            i = j\n",
    "\n",
    "printMaxActivities(activities)"
   ]
  },
  {
   "cell_type": "markdown",
   "id": "c08c1484",
   "metadata": {},
   "source": [
    "# Coin Change"
   ]
  },
  {
   "cell_type": "code",
   "execution_count": 2,
   "id": "c8e33b8b",
   "metadata": {},
   "outputs": [
    {
     "name": "stdout",
     "output_type": "stream",
     "text": [
      "100\n",
      "100\n",
      "1\n"
     ]
    }
   ],
   "source": [
    "\n",
    "def coinChange(totalNumber, coins):\n",
    "    N = totalNumber\n",
    "    coins.sort()\n",
    "    index = len(coins)-1\n",
    "    while True:\n",
    "        coinValue = coins[index]\n",
    "        if N >= coinValue:\n",
    "            print(coinValue)\n",
    "            N = N - coinValue\n",
    "        if N < coinValue:\n",
    "            index -= 1\n",
    "        \n",
    "        if N == 0:\n",
    "            break\n",
    "\n",
    "coins = [1,2,5,20,50,100]\n",
    "coinChange(201, coins)"
   ]
  },
  {
   "cell_type": "markdown",
   "id": "0559e71a",
   "metadata": {},
   "source": [
    "# Fractional Knapsack"
   ]
  },
  {
   "cell_type": "code",
   "execution_count": 3,
   "id": "5047deca",
   "metadata": {},
   "outputs": [
    {
     "name": "stdout",
     "output_type": "stream",
     "text": [
      "Total value obtained: 240.0\n"
     ]
    }
   ],
   "source": [
    "class Item:\n",
    "    def __init__(self, weight, value):\n",
    "        self.weight = weight\n",
    "        self.value = value\n",
    "        self.ratio = value / weight\n",
    "\n",
    "def knapsackMethod(items, capacity):\n",
    "    items.sort(key=lambda x: x.ratio, reverse = True)\n",
    "    usedCapacity = 0\n",
    "    totalValue = 0\n",
    "    for i in items:\n",
    "        if usedCapacity + i.weight <= capacity:\n",
    "            usedCapacity += i.weight\n",
    "            totalValue += i.value\n",
    "        else:\n",
    "            unusedWeight = capacity - usedCapacity\n",
    "            value = i.ratio * unusedWeight\n",
    "            usedCapacity += unusedWeight\n",
    "            totalValue += value\n",
    "        \n",
    "        if usedCapacity == capacity:\n",
    "            break\n",
    "    print(\"Total value obtained: \"+str(totalValue))\n",
    "\n",
    "item1 = Item(20,100)\n",
    "item2 = Item(30,120)\n",
    "item3 = Item(10,60)\n",
    "cList = [item1, item2, item3]\n",
    "\n",
    "knapsackMethod(cList, 50)"
   ]
  },
  {
   "cell_type": "markdown",
   "id": "cb37ea1c",
   "metadata": {},
   "source": [
    "# Convert String"
   ]
  },
  {
   "cell_type": "code",
   "execution_count": 4,
   "id": "d577eb4e",
   "metadata": {},
   "outputs": [
    {
     "name": "stdout",
     "output_type": "stream",
     "text": [
      "4\n"
     ]
    }
   ],
   "source": [
    "def findMinOperation(s1, s2, index1, index2):\n",
    "    if index1 == len(s1):\n",
    "        return len(s2)-index2\n",
    "    if index2 == len(s2):\n",
    "        return len(s1)-index1\n",
    "    if s1[index1] == s2[index2]:\n",
    "        return findMinOperation(s1, s2, index1+1, index2+1)\n",
    "    else:\n",
    "        deleteOp = 1 + findMinOperation(s1, s2, index1, index2+1)\n",
    "        insertOp = 1 + findMinOperation(s1, s2, index1+1, index2)\n",
    "        replaceOp = 1 + findMinOperation(s1, s2, index1+1, index2+1)\n",
    "        return min (deleteOp, insertOp, replaceOp)\n",
    "\n",
    "print(findMinOperation(\"table\", \"tbrltt\", 0, 0))"
   ]
  },
  {
   "cell_type": "markdown",
   "id": "bc41cc0d",
   "metadata": {},
   "source": [
    "# House Robber"
   ]
  },
  {
   "cell_type": "code",
   "execution_count": 5,
   "id": "fe249977",
   "metadata": {},
   "outputs": [
    {
     "name": "stdout",
     "output_type": "stream",
     "text": [
      "41\n"
     ]
    }
   ],
   "source": [
    "def houseRobber(houses, currentIndex):\n",
    "    if currentIndex >= len(houses):\n",
    "        return 0\n",
    "    else:\n",
    "        stealFirstHouse = houses[currentIndex] + houseRobber(houses, currentIndex + 2)\n",
    "        skipFirstHouse = houseRobber(houses, currentIndex+1)\n",
    "        return max(stealFirstHouse, skipFirstHouse)\n",
    "\n",
    "houses = [6,7,1,30,8,2,4]\n",
    "print(houseRobber(houses, 0))"
   ]
  },
  {
   "cell_type": "markdown",
   "id": "bde67bfc",
   "metadata": {},
   "source": [
    "# Longest Common"
   ]
  },
  {
   "cell_type": "code",
   "execution_count": 6,
   "id": "5fd171f0",
   "metadata": {},
   "outputs": [
    {
     "name": "stdout",
     "output_type": "stream",
     "text": [
      "5\n"
     ]
    }
   ],
   "source": [
    "def findLCS(s1, s2, index1, index2):\n",
    "    if index1 == len(s1) or index2 == len(s2):\n",
    "        return 0\n",
    "    if s1[index1] == s2[index2]:\n",
    "        return 1 + findLCS(s1, s2, index1+1, index2+1)\n",
    "    else:\n",
    "        op1 = findLCS(s1,s2, index1, index2+1)\n",
    "        op2 = findLCS(s1,s2, index1+1, index2)\n",
    "        return max(op1, op2)\n",
    "\n",
    "print(findLCS(\"elephant\", \"eretpat\", 0, 0))"
   ]
  },
  {
   "cell_type": "markdown",
   "id": "e6909864",
   "metadata": {},
   "source": [
    "# Longest Polindormic"
   ]
  },
  {
   "cell_type": "code",
   "execution_count": 7,
   "id": "7936df02",
   "metadata": {},
   "outputs": [
    {
     "name": "stdout",
     "output_type": "stream",
     "text": [
      "5\n"
     ]
    }
   ],
   "source": [
    "def findLPS(s, startIndex, endIndex):\n",
    "    if startIndex > endIndex:\n",
    "        return 0\n",
    "    elif startIndex == endIndex:\n",
    "        return 1\n",
    "    elif s[startIndex] == s[endIndex]:\n",
    "        return 2 + findLPS(s, startIndex+1, endIndex-1)\n",
    "    else:\n",
    "        op1 = findLPS(s, startIndex, endIndex-1)\n",
    "        op2 = findLPS(s, startIndex+1, endIndex)\n",
    "        return max(op1, op2)\n",
    "\n",
    "print(findLPS(\"ELRMENMET\", 0, 8))"
   ]
  },
  {
   "cell_type": "markdown",
   "id": "aed320b1",
   "metadata": {},
   "source": [
    "# Min Cost 2D"
   ]
  },
  {
   "cell_type": "code",
   "execution_count": 8,
   "id": "1aa0b437",
   "metadata": {},
   "outputs": [
    {
     "name": "stdout",
     "output_type": "stream",
     "text": [
      "36\n"
     ]
    }
   ],
   "source": [
    "def findMinCost(twoDArray, row, col):\n",
    "    if row == -1 or col == -1:\n",
    "        return float('inf')\n",
    "    elif row == 0 and col == 0:\n",
    "        return twoDArray[0][0]\n",
    "    else:\n",
    "        op1 = findMinCost(twoDArray, row-1, col)\n",
    "        op2 = findMinCost(twoDArray, row, col-1)\n",
    "        return twoDArray[row][col] + min(op1,op2)\n",
    "\n",
    "TwoDList = [[4,7,8,6,4],\n",
    "           [6,7,3,9,2],\n",
    "           [3,8,1,2,4],\n",
    "           [7,1,7,3,7],\n",
    "           [2,9,8,9,3]\n",
    "           ]\n",
    "\n",
    "print(findMinCost(TwoDList, 4,4))"
   ]
  },
  {
   "cell_type": "markdown",
   "id": "c26a8c0f",
   "metadata": {},
   "source": [
    "# Number Factor"
   ]
  },
  {
   "cell_type": "code",
   "execution_count": 9,
   "id": "ac52ced7",
   "metadata": {},
   "outputs": [
    {
     "name": "stdout",
     "output_type": "stream",
     "text": [
      "6\n"
     ]
    }
   ],
   "source": [
    "def numberFactor(n):\n",
    "    if n in (0,1,2):\n",
    "        return 1\n",
    "    elif n == 3:\n",
    "        return 2\n",
    "    else:\n",
    "        subP1 = numberFactor(n-1)\n",
    "        subP2 = numberFactor(n-3)\n",
    "        subP3 = numberFactor(n-4)\n",
    "        return subP1+subP2+subP3\n",
    "\n",
    "print(numberFactor(5))"
   ]
  },
  {
   "cell_type": "markdown",
   "id": "0faed878",
   "metadata": {},
   "source": [
    "# Number of Paths"
   ]
  },
  {
   "cell_type": "code",
   "execution_count": 10,
   "id": "8d40fb16",
   "metadata": {},
   "outputs": [
    {
     "name": "stdout",
     "output_type": "stream",
     "text": [
      "2\n"
     ]
    }
   ],
   "source": [
    "def numberOfPaths(twoDArray, row, col, cost):\n",
    "    if cost < 0:\n",
    "        return 0\n",
    "    elif row == 0 and col == 0:\n",
    "        if twoDArray[0][0] - cost == 0:\n",
    "            return 1\n",
    "        else:\n",
    "            return 0\n",
    "    elif row == 0:\n",
    "        return numberOfPaths(twoDArray, 0, col-1, cost - twoDArray[row][col] )\n",
    "    elif col == 0:\n",
    "        return numberOfPaths(twoDArray, row-1, 0, cost - twoDArray[row][col] )\n",
    "    else:\n",
    "        op1 = numberOfPaths(twoDArray, row -1, col, cost - twoDArray[row][col] )\n",
    "        op2 = numberOfPaths(twoDArray, row, col-1, cost - twoDArray[row][col] )\n",
    "        return op1 + op2\n",
    "\n",
    "\n",
    "TwoDList = [[4,7,1,6],\n",
    "           [5,7,3,9],\n",
    "           [3,2,1,2],\n",
    "           [7,1,6,3]\n",
    "           ]\n",
    "\n",
    "print(numberOfPaths(TwoDList, 3,3, 25))"
   ]
  },
  {
   "cell_type": "markdown",
   "id": "a779efb3",
   "metadata": {},
   "source": [
    "# Zero One Knapsack"
   ]
  },
  {
   "cell_type": "code",
   "execution_count": 11,
   "id": "40ca9774",
   "metadata": {},
   "outputs": [
    {
     "name": "stdout",
     "output_type": "stream",
     "text": [
      "98\n"
     ]
    }
   ],
   "source": [
    "class Item:\n",
    "    def __init__(self, profit, weight):\n",
    "        self.profit = profit\n",
    "        self.weight = weight\n",
    "\n",
    "def zoKnapsack(items, capacity, currentIndex):\n",
    "    if capacity <=0 or currentIndex < 0 or currentIndex >= len(items):\n",
    "        return 0\n",
    "    elif items[currentIndex].weight <= capacity:\n",
    "        profit1 = items[currentIndex].profit + zoKnapsack(items, capacity-items[currentIndex].weight, currentIndex+1)\n",
    "        profit2 = zoKnapsack(items, capacity, currentIndex+1)\n",
    "        return max(profit1, profit2)\n",
    "    else:\n",
    "        return 0\n",
    "\n",
    "mango = Item(31, 3)\n",
    "apple = Item(26, 1)\n",
    "orange = Item(17, 2)\n",
    "banana = Item(72, 5)\n",
    "\n",
    "items = [mango, apple, orange, banana]\n",
    "\n",
    "print(zoKnapsack(items, 7, 0))"
   ]
  },
  {
   "cell_type": "code",
   "execution_count": null,
   "id": "3fc82f2d",
   "metadata": {},
   "outputs": [],
   "source": []
  }
 ],
 "metadata": {
  "kernelspec": {
   "display_name": "Python 3 (ipykernel)",
   "language": "python",
   "name": "python3"
  },
  "language_info": {
   "codemirror_mode": {
    "name": "ipython",
    "version": 3
   },
   "file_extension": ".py",
   "mimetype": "text/x-python",
   "name": "python",
   "nbconvert_exporter": "python",
   "pygments_lexer": "ipython3",
   "version": "3.9.13"
  }
 },
 "nbformat": 4,
 "nbformat_minor": 5
}
