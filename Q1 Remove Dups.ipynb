{
 "cells": [
  {
   "cell_type": "markdown",
   "id": "478f0a77",
   "metadata": {},
   "source": [
    "#  Question 1 - Remove Dups : Write a code to remove duplicates from an unsorted linked list. "
   ]
  },
  {
   "cell_type": "code",
   "execution_count": 7,
   "id": "0b89780c",
   "metadata": {},
   "outputs": [
    {
     "ename": "ModuleNotFoundError",
     "evalue": "No module named 'LinkedList'",
     "output_type": "error",
     "traceback": [
      "\u001b[1;31m---------------------------------------------------------------------------\u001b[0m",
      "\u001b[1;31mModuleNotFoundError\u001b[0m                       Traceback (most recent call last)",
      "\u001b[1;32m~\\AppData\\Local\\Temp\\ipykernel_6420\\4117392215.py\u001b[0m in \u001b[0;36m<module>\u001b[1;34m\u001b[0m\n\u001b[1;32m----> 1\u001b[1;33m \u001b[1;32mfrom\u001b[0m \u001b[0mLinkedList\u001b[0m \u001b[1;32mimport\u001b[0m \u001b[0mLinkedList\u001b[0m\u001b[1;33m\u001b[0m\u001b[1;33m\u001b[0m\u001b[0m\n\u001b[0m\u001b[0;32m      2\u001b[0m \u001b[1;33m\u001b[0m\u001b[0m\n\u001b[0;32m      3\u001b[0m \u001b[1;32mdef\u001b[0m \u001b[0mremoveDups\u001b[0m\u001b[1;33m(\u001b[0m\u001b[0mll\u001b[0m\u001b[1;33m)\u001b[0m\u001b[1;33m:\u001b[0m\u001b[1;33m\u001b[0m\u001b[1;33m\u001b[0m\u001b[0m\n\u001b[0;32m      4\u001b[0m     \u001b[1;32mif\u001b[0m \u001b[0mll\u001b[0m\u001b[1;33m.\u001b[0m\u001b[0mhead\u001b[0m \u001b[1;32mis\u001b[0m \u001b[1;32mNone\u001b[0m\u001b[1;33m:\u001b[0m\u001b[1;33m\u001b[0m\u001b[1;33m\u001b[0m\u001b[0m\n\u001b[0;32m      5\u001b[0m         \u001b[1;32mreturn\u001b[0m\u001b[1;33m\u001b[0m\u001b[1;33m\u001b[0m\u001b[0m\n",
      "\u001b[1;31mModuleNotFoundError\u001b[0m: No module named 'LinkedList'"
     ]
    }
   ],
   "source": [
    "from LinkedList import LinkedList\n",
    "\n",
    "def removeDups(ll):\n",
    "    if ll.head is None:\n",
    "        return\n",
    "    else:\n",
    "        currentNode = ll.head\n",
    "        visited = set([currentNode.value])\n",
    "        while currentNode.next:\n",
    "            if currentNode.next.value in visited:\n",
    "                currentNode.next = currentNode.next.next\n",
    "            else:\n",
    "                visited.add(currentNode.next.value)\n",
    "                currentNode = currentNode.next\n",
    "        return ll\n",
    "\n",
    "def removeDups1(ll):\n",
    "    if ll.head is None:\n",
    "        return\n",
    "    \n",
    "    currentNode = ll.head\n",
    "    while currentNode:\n",
    "        runner = currentNode\n",
    "        while runner.next:\n",
    "            if runner.next.value == currentNode.value:\n",
    "                runner.next = runner.next.next\n",
    "            else:\n",
    "                runner = runner.next\n",
    "        currentNode = currentNode.next\n",
    "    return ll.head\n",
    "\n",
    "\n",
    "\n",
    "customLL = LinkedList()\n",
    "customLL.generate(10, 0, 99)\n",
    "print(customLL)\n",
    "removeDups1(customLL)\n",
    "print(customLL)"
   ]
  },
  {
   "cell_type": "code",
   "execution_count": null,
   "id": "689df190",
   "metadata": {},
   "outputs": [],
   "source": []
  }
 ],
 "metadata": {
  "kernelspec": {
   "display_name": "Python 3 (ipykernel)",
   "language": "python",
   "name": "python3"
  },
  "language_info": {
   "codemirror_mode": {
    "name": "ipython",
    "version": 3
   },
   "file_extension": ".py",
   "mimetype": "text/x-python",
   "name": "python",
   "nbconvert_exporter": "python",
   "pygments_lexer": "ipython3",
   "version": "3.9.13"
  }
 },
 "nbformat": 4,
 "nbformat_minor": 5
}
