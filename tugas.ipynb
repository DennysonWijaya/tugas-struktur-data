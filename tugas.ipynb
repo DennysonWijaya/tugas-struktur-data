{
 "cells": [
  {
   "cell_type": "markdown",
   "id": "1dbf0099",
   "metadata": {},
   "source": [
    "#  Deque"
   ]
  },
  {
   "cell_type": "code",
   "execution_count": 1,
   "id": "6af4674e",
   "metadata": {},
   "outputs": [
    {
     "name": "stdout",
     "output_type": "stream",
     "text": [
      "deque([], maxlen=3)\n",
      "deque([2, 3, 4], maxlen=3)\n",
      "None\n",
      "deque([], maxlen=3)\n"
     ]
    }
   ],
   "source": [
    "from collections import deque\n",
    "\n",
    "customQueue = deque(maxlen=3)\n",
    "print(customQueue)\n",
    "\n",
    "customQueue.append(1)\n",
    "customQueue.append(2)\n",
    "customQueue.append(3)\n",
    "customQueue.append(4)\n",
    "print(customQueue)\n",
    "print(customQueue.clear())\n",
    "print(customQueue)"
   ]
  },
  {
   "cell_type": "markdown",
   "id": "d7e24d92",
   "metadata": {},
   "source": [
    "# Multiprocessing Queue"
   ]
  },
  {
   "cell_type": "code",
   "execution_count": 2,
   "id": "083eb55e",
   "metadata": {},
   "outputs": [
    {
     "name": "stdout",
     "output_type": "stream",
     "text": [
      "1\n"
     ]
    }
   ],
   "source": [
    "from multiprocessing import Queue\n",
    "\n",
    "customQueue = Queue(maxsize= 3)\n",
    "customQueue.put(1)\n",
    "print(customQueue.get())"
   ]
  },
  {
   "cell_type": "markdown",
   "id": "147598f7",
   "metadata": {},
   "source": [
    "# Queue Linked List"
   ]
  },
  {
   "cell_type": "code",
   "execution_count": 3,
   "id": "4d3bc46a",
   "metadata": {},
   "outputs": [
    {
     "name": "stdout",
     "output_type": "stream",
     "text": [
      "1 2 3\n",
      "1\n",
      "1 2 3\n"
     ]
    }
   ],
   "source": [
    "class Node:\n",
    "    def __init__(self, value=None):\n",
    "        self.value = value\n",
    "        self.next = None\n",
    "    \n",
    "    def __str__(self):\n",
    "        return str(self.value)\n",
    "\n",
    "class LinkedList:\n",
    "    def __init__(self):\n",
    "        self.head = None\n",
    "        self.tail = None\n",
    "    \n",
    "    def __iter__(self):\n",
    "        curNode = self.head\n",
    "        while curNode:\n",
    "            yield curNode\n",
    "            curNode = curNode.next\n",
    "\n",
    "class Queue:\n",
    "    def __init__(self):\n",
    "        self.linkedList = LinkedList()\n",
    "    \n",
    "    def __str__(self):\n",
    "        values = [str(x) for x in self.linkedList]\n",
    "        return ' '.join(values)\n",
    "    \n",
    "    def enqueue(self, value):\n",
    "        newNode = Node(value)\n",
    "        if self.linkedList.head == None:\n",
    "            self.linkedList.head = newNode\n",
    "            self.linkedList.tail = newNode\n",
    "        else:\n",
    "            self.linkedList.tail.next = newNode\n",
    "            self.linkedList.tail = newNode\n",
    "    \n",
    "    def isEmpty(self):\n",
    "        if self.linkedList.head == None:\n",
    "            return True\n",
    "        else:\n",
    "            return False\n",
    "    \n",
    "    def dequeue(self):\n",
    "        if self.isEmpty():\n",
    "            return \"There is not any node in the Queue\"\n",
    "        else:\n",
    "            tempNode = self.linkedList.head\n",
    "            if self.linkedList.head == self.linkedList.tail:\n",
    "                self.linkedList.head = None\n",
    "                self.linkedList.tail = None\n",
    "            else:\n",
    "                self.linkedList.head = self.linkedList.head.next\n",
    "            return tempNode\n",
    "    \n",
    "    def peek(self):\n",
    "        if self.isEmpty():\n",
    "            return \"There is not any node in the Queue\"\n",
    "        else:\n",
    "            return self.linkedList.head\n",
    "    \n",
    "    def delete(self):\n",
    "        self.linkedList.head = None\n",
    "        self.linkedList.tail = None\n",
    "\n",
    "\n",
    "\n",
    "\n",
    "custQueue = Queue()\n",
    "custQueue.enqueue(1)\n",
    "custQueue.enqueue(2)\n",
    "custQueue.enqueue(3)\n",
    "print(custQueue)\n",
    "print(custQueue.peek())\n",
    "print(custQueue)"
   ]
  },
  {
   "cell_type": "markdown",
   "id": "218a825a",
   "metadata": {},
   "source": [
    "# Queue Module"
   ]
  },
  {
   "cell_type": "code",
   "execution_count": 4,
   "id": "e6e9f723",
   "metadata": {},
   "outputs": [
    {
     "name": "stdout",
     "output_type": "stream",
     "text": [
      "True\n",
      "True\n",
      "1\n",
      "2\n"
     ]
    }
   ],
   "source": [
    "import queue as q\n",
    "\n",
    "customQueue = q.Queue(maxsize=3)\n",
    "print(customQueue.empty())\n",
    "customQueue.put(1)\n",
    "customQueue.put(2)\n",
    "customQueue.put(3)\n",
    "print(customQueue.full())\n",
    "print(customQueue.get())\n",
    "print(customQueue.qsize())"
   ]
  },
  {
   "cell_type": "markdown",
   "id": "3d73d703",
   "metadata": {},
   "source": [
    "# Queue No Size"
   ]
  },
  {
   "cell_type": "code",
   "execution_count": 6,
   "id": "51e4308f",
   "metadata": {},
   "outputs": [
    {
     "name": "stdout",
     "output_type": "stream",
     "text": [
      "1\n"
     ]
    }
   ],
   "source": [
    "\n",
    "class Queue:\n",
    "    def __init__(self):\n",
    "        self.items = []\n",
    "    \n",
    "    def __str__(self):\n",
    "        values = [str(x) for x in self.items]\n",
    "        return ' '.join(values)\n",
    "    \n",
    "    def isEmpty(self):\n",
    "        if self.items == []:\n",
    "            return True\n",
    "        else:\n",
    "            return False\n",
    "    \n",
    "    def enqueue(self, value):\n",
    "        self.items.append(value)\n",
    "        return \"The element is inserted at the end of Queue\"\n",
    "    \n",
    "    def dequeue(self):\n",
    "        if self.isEmpty():\n",
    "            return \"The is not any element in the Queue\"\n",
    "        else:\n",
    "            return self.items.pop(0)\n",
    "    \n",
    "    def peek(self):\n",
    "        if self.isEmpty():\n",
    "            return \"The is not any element in the Queue\"\n",
    "        else:\n",
    "            return self.items[0]\n",
    "    \n",
    "    def delete(self):\n",
    "        self.items = None\n",
    "\n",
    "\n",
    "\n",
    "\n",
    "customQueue = Queue()\n",
    "customQueue.enqueue(1)\n",
    "customQueue.enqueue(2)\n",
    "customQueue.enqueue(3)\n",
    "print(customQueue.peek())\n",
    "customQueue.delete()"
   ]
  },
  {
   "cell_type": "markdown",
   "id": "2bca550e",
   "metadata": {},
   "source": [
    "# Queue With Capacity"
   ]
  },
  {
   "cell_type": "code",
   "execution_count": 7,
   "id": "88453c9f",
   "metadata": {},
   "outputs": [
    {
     "name": "stdout",
     "output_type": "stream",
     "text": [
      "None None None\n"
     ]
    }
   ],
   "source": [
    "class Queue:\n",
    "    def __init__(self, maxSize):\n",
    "        self.items = maxSize * [None]\n",
    "        self.maxSize = maxSize\n",
    "        self.start = -1\n",
    "        self.top = -1 \n",
    "    \n",
    "    def __str__(self):\n",
    "        values = [str(x) for x in self.items]\n",
    "        return ' '.join(values)\n",
    "    \n",
    "    def isFull(self):\n",
    "        if self.top + 1 == self.start:\n",
    "            return True\n",
    "        elif self.start == 0 and self.top + 1 == self.maxSize:\n",
    "            return True\n",
    "        else:\n",
    "            return False\n",
    "    \n",
    "    def isEmpty(self):\n",
    "        if self.top == -1:\n",
    "            return True\n",
    "        else:\n",
    "            return False\n",
    "    \n",
    "    def enqueue(self, value):\n",
    "        if self.isFull():\n",
    "            return \"The queue is full\"\n",
    "        else:\n",
    "            if self.top + 1 == self.maxSize:\n",
    "                self.top = 0\n",
    "            else:\n",
    "                self.top += 1\n",
    "                if self.start == -1:\n",
    "                    self.start = 0\n",
    "            self.items[self.top] = value\n",
    "            return \"The element is inserted at the end of Queue\"\n",
    "    \n",
    "    def dequeue(self):\n",
    "        if self.isEmpty():\n",
    "            return \"There is not any element in the Queue\"\n",
    "        else:\n",
    "            firstElement = self.items[self.start]\n",
    "            start = self.start\n",
    "            if self.start == self.top:\n",
    "                self.start = -1\n",
    "                self.top = -1\n",
    "            elif self.start + 1 == self.maxSize:\n",
    "                self.start = 0\n",
    "            else:\n",
    "                self.start += 1\n",
    "            self.items[start] = None\n",
    "            return firstElement\n",
    "    \n",
    "    def peek(self):\n",
    "        if self.isEmpty():\n",
    "            return \"There is not any element in the Queue\"\n",
    "        else:\n",
    "            return self.items[self.start]\n",
    "    \n",
    "    def delete(self):\n",
    "        self.items = self.maxSize * [None]\n",
    "        self.top = -1\n",
    "        self.start = -1\n",
    "\n",
    "\n",
    "\n",
    "\n",
    "\n",
    "\n",
    "customQueue = Queue(3)\n",
    "customQueue.enqueue(1)\n",
    "customQueue.enqueue(2)\n",
    "customQueue.enqueue(3)\n",
    "customQueue.delete()\n",
    "print(customQueue)"
   ]
  },
  {
   "cell_type": "code",
   "execution_count": 12,
   "id": "bb5641b2",
   "metadata": {},
   "outputs": [],
   "source": [
    "class MultiStack:\n",
    "\n",
    "    def __init__(self, stacksize):\n",
    "        self.numstacks = 3\n",
    "        self.array = [0] * (stacksize * self.numstacks)\n",
    "        self.sizes = [0] * self.numstacks\n",
    "        self.stacksize = stacksize\n",
    "        # print(self.array)\n",
    "        # print(self.sizes)\n",
    "\n",
    "    def Push(self, item, stacknum):\n",
    "        if self.IsFull(stacknum):\n",
    "            raise Exception('Stack is full')\n",
    "        self.sizes[stacknum] += 1\n",
    "        self.array[self.IndexOfTop(stacknum)] = item\n",
    "\n",
    "    def Pop(self, stacknum):\n",
    "        if self.IsEmpty(stacknum):\n",
    "            raise Exception('Stack is empty')\n",
    "        value = self.array[self.IndexOfTop(stacknum)]\n",
    "        self.array[self.IndexOfTop(stacknum)] = 0\n",
    "        self.sizes[stacknum] -= 1\n",
    "        return value\n",
    "\n",
    "    def Peek(self, stacknum):\n",
    "        if self.IsEmpty(stacknum):\n",
    "            raise Exception('Stack is empty')\n",
    "        return self.array[self.IndexOfTop(stacknum)]\n",
    "\n",
    "    def IsEmpty(self, stacknum):\n",
    "        return self.sizes[stacknum] == 0\n",
    "\n",
    "    def IsFull(self, stacknum):\n",
    "        return self.sizes[stacknum] == self.stacksize\n",
    "\n",
    "    def IndexOfTop(self, stacknum):\n",
    "        offset = stacknum * self.stacksize\n",
    "        return offset + self.sizes[stacknum] - 1\n",
    "\n",
    "stack = MultiStack(1)\n"
   ]
  },
  {
   "cell_type": "markdown",
   "id": "ee6effb2",
   "metadata": {},
   "source": [
    "# Stack Linked List"
   ]
  },
  {
   "cell_type": "code",
   "execution_count": 13,
   "id": "a7286598",
   "metadata": {},
   "outputs": [
    {
     "name": "stdout",
     "output_type": "stream",
     "text": [
      "3\n"
     ]
    }
   ],
   "source": [
    "class Node:\n",
    "    def __init__(self, value = None):\n",
    "        self.value = value\n",
    "        self.next = None\n",
    "\n",
    "class LinkedList:\n",
    "    def __init__(self):\n",
    "        self.head = None\n",
    "    \n",
    "    def __iter__(self):\n",
    "        curNode = self.head\n",
    "        while curNode:\n",
    "            yield curNode\n",
    "            curNode = curNode.next\n",
    "\n",
    "class Stack:\n",
    "    def __init__(self):\n",
    "        self.LinkedList = LinkedList()\n",
    "    \n",
    "    def __str__(self):\n",
    "        values = [str(x.value) for x in self.LinkedList]\n",
    "        return '\\n'.join(values)\n",
    "    \n",
    "    def isEmpty(self):\n",
    "        if self.LinkedList.head == None:\n",
    "            return True\n",
    "        else:\n",
    "            return False\n",
    "\n",
    "    def push(self, value):\n",
    "        node = Node(value)\n",
    "        node.next = self.LinkedList.head\n",
    "        self.LinkedList.head = node\n",
    "    \n",
    "    def pop(self):\n",
    "        if self.isEmpty():\n",
    "            return \"There is not any element in the stack\"\n",
    "        else:\n",
    "            nodeValue = self.LinkedList.head.value\n",
    "            self.LinkedList.head = self.LinkedList.head.next\n",
    "            return nodeValue\n",
    "    \n",
    "    def peek(self):\n",
    "        if self.isEmpty():\n",
    "            return \"There is not any element in the stack\"\n",
    "        else:\n",
    "            nodeValue = self.LinkedList.head.value\n",
    "            return nodeValue\n",
    "    \n",
    "    def delete(self):\n",
    "        self.LinkedList.head = None\n",
    "    \n",
    "\n",
    "\n",
    "\n",
    "customStack = Stack()\n",
    "customStack.push(1)\n",
    "customStack.push(2)\n",
    "customStack.push(3)\n",
    "\n",
    "print(customStack.peek())\n"
   ]
  },
  {
   "cell_type": "markdown",
   "id": "0dc81a7f",
   "metadata": {},
   "source": [
    "# Stack List"
   ]
  },
  {
   "cell_type": "code",
   "execution_count": 14,
   "id": "23ee855d",
   "metadata": {},
   "outputs": [
    {
     "name": "stdout",
     "output_type": "stream",
     "text": [
      "3\n",
      "3\n",
      "2\n",
      "1\n"
     ]
    }
   ],
   "source": [
    "class Stack:\n",
    "    def __init__(self):\n",
    "        self.list = []\n",
    "    \n",
    "    def __str__(self):\n",
    "        values = self.list.reverse()\n",
    "        values = [str(x) for x in self.list]\n",
    "        return '\\n'.join(values)\n",
    "    \n",
    "    # isEmpty\n",
    "    def isEmpty(self):\n",
    "        if self.list == []:\n",
    "            return True\n",
    "        else:\n",
    "            return False\n",
    "    # push\n",
    "    def push(self, value):\n",
    "        self.list.append(value)\n",
    "        return \"The element has been successfully inserted\"\n",
    "\n",
    "    # pop\n",
    "    def pop(self):\n",
    "        if self.isEmpty():\n",
    "            return \"There is not any element in the stack\"\n",
    "        else:\n",
    "            return self.list.pop()\n",
    "    \n",
    "    # peek\n",
    "    def peek(self):\n",
    "        if self.isEmpty():\n",
    "            return \"There is not any element in the stack\"\n",
    "        else:\n",
    "            return self.list[len(self.list)-1]\n",
    "    \n",
    "    # delete\n",
    "    def delete(self):\n",
    "        self.list = None\n",
    "\n",
    "\n",
    "\n",
    "\n",
    "customStack = Stack()\n",
    "customStack.push(1)\n",
    "customStack.push(2)\n",
    "customStack.push(3)\n",
    "print(customStack.peek())\n",
    "print(customStack)"
   ]
  },
  {
   "cell_type": "markdown",
   "id": "63a5a8ee",
   "metadata": {},
   "source": [
    "# Stack  List Limited"
   ]
  },
  {
   "cell_type": "code",
   "execution_count": 15,
   "id": "d98e5cd8",
   "metadata": {},
   "outputs": [
    {
     "name": "stdout",
     "output_type": "stream",
     "text": [
      "True\n",
      "False\n",
      "3\n",
      "2\n",
      "1\n"
     ]
    }
   ],
   "source": [
    "class Stack:\n",
    "    def __init__(self, maxSize):\n",
    "        self.maxSize = maxSize\n",
    "        self.list = []\n",
    "    \n",
    "    def __str__(self):\n",
    "        values = self.list.reverse()\n",
    "        values = [str(x) for x in self.list]\n",
    "        return '\\n'.join(values)\n",
    "    \n",
    "    # isEmpty\n",
    "    def isEmpty(self):\n",
    "        if self.list == []:\n",
    "            return True\n",
    "        else:\n",
    "            return False\n",
    "    \n",
    "    # isFull\n",
    "    def isFull(self):\n",
    "        if len(self.list) == self.maxSize:\n",
    "            return True\n",
    "        else:\n",
    "            return False\n",
    "    \n",
    "    #  Push\n",
    "    def push(self, value):\n",
    "        if self.isFull():\n",
    "            return \"The stack is full\"\n",
    "        else:\n",
    "            self.list.append(value)\n",
    "            return \"The element has been successfully inserted\"\n",
    "    # Pop\n",
    "    def pop(self):\n",
    "        if self.isEmpty():\n",
    "            return \"There is not any element in the stack\"\n",
    "        else:\n",
    "            return self.list.pop()\n",
    "    \n",
    "    # peek\n",
    "    def peek(self):\n",
    "        if self.isEmpty():\n",
    "            return \"There is not any element in the stack\"\n",
    "        else:\n",
    "            return self.list[len(self.list)-1]\n",
    "\n",
    "    #  delete\n",
    "    def delete(self):\n",
    "        self.list = None\n",
    "    \n",
    "\n",
    "customStack = Stack(4)\n",
    "print(customStack.isEmpty())\n",
    "print(customStack.isFull())\n",
    "customStack.push(1)\n",
    "customStack.push(2)\n",
    "customStack.push(3)\n",
    "print(customStack)\n"
   ]
  },
  {
   "cell_type": "code",
   "execution_count": null,
   "id": "93a153fb",
   "metadata": {},
   "outputs": [],
   "source": []
  }
 ],
 "metadata": {
  "kernelspec": {
   "display_name": "Python 3 (ipykernel)",
   "language": "python",
   "name": "python3"
  },
  "language_info": {
   "codemirror_mode": {
    "name": "ipython",
    "version": 3
   },
   "file_extension": ".py",
   "mimetype": "text/x-python",
   "name": "python",
   "nbconvert_exporter": "python",
   "pygments_lexer": "ipython3",
   "version": "3.9.13"
  }
 },
 "nbformat": 4,
 "nbformat_minor": 5
}
