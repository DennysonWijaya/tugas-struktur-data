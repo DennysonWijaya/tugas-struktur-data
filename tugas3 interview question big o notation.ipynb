{
 "cells": [
  {
   "cell_type": "markdown",
   "id": "b30983f7",
   "metadata": {},
   "source": [
    "# interview question 1"
   ]
  },
  {
   "cell_type": "code",
   "execution_count": 3,
   "id": "d89f7ef6",
   "metadata": {},
   "outputs": [],
   "source": [
    "def foo(array):\n",
    "    sum = 0\n",
    "    product = 1\n",
    "    \n",
    "    for i in array:\n",
    "        sum += i\n",
    "        \n",
    "    for i in array:\n",
    "        product *= i\n",
    "    print(\"Sum = \"+str(sum)+\", Product = \"+str(product))"
   ]
  },
  {
   "cell_type": "markdown",
   "id": "01fe569b",
   "metadata": {},
   "source": [
    "# interview question 2"
   ]
  },
  {
   "cell_type": "code",
   "execution_count": 4,
   "id": "fc573736",
   "metadata": {},
   "outputs": [],
   "source": [
    "def PrintPairs(array):\n",
    "    for i in array:\n",
    "        for j in array:\n",
    "            print(str(i)+\",\"+str(j))"
   ]
  },
  {
   "cell_type": "markdown",
   "id": "22067577",
   "metadata": {},
   "source": [
    "# interview question 3"
   ]
  },
  {
   "cell_type": "code",
   "execution_count": 5,
   "id": "4a79a891",
   "metadata": {},
   "outputs": [],
   "source": [
    "def printUnorderedPairs(array):\n",
    "    for i in range(0,len(array)):\n",
    "        for j in range(i+1,len(array)):\n",
    "            print(array[i] + \",\" + array[j])"
   ]
  },
  {
   "cell_type": "markdown",
   "id": "8d9fc2ee",
   "metadata": {},
   "source": [
    "# interview question 4"
   ]
  },
  {
   "cell_type": "code",
   "execution_count": 6,
   "id": "4c6cfa1b",
   "metadata": {},
   "outputs": [],
   "source": [
    "def printUnorderedPairs(arrayA, arrayB):\n",
    "    for i in range (len(arrayA)):\n",
    "        for j in range(len(arrayB)):\n",
    "            if arrayA[i] < arrayB[j]:\n",
    "                print(str(arrayA[i]) + \",\" + str(arrayB[j]))"
   ]
  },
  {
   "cell_type": "markdown",
   "id": "c53a1760",
   "metadata": {},
   "source": [
    "# interview question 5"
   ]
  },
  {
   "cell_type": "code",
   "execution_count": 7,
   "id": "4bb06a6a",
   "metadata": {},
   "outputs": [],
   "source": [
    "def printUnorderedPairs(arrayA, arrayB):\n",
    "    for i in range (len(arrayA)):\n",
    "        for j in range(len(arrayB)):\n",
    "            for k in range(0,100000):\n",
    "                print(str(arrayA[i]) + \",\" + str(arrayB[j]))"
   ]
  },
  {
   "cell_type": "markdown",
   "id": "bb3046c0",
   "metadata": {},
   "source": [
    "# interview question 6"
   ]
  },
  {
   "cell_type": "code",
   "execution_count": 8,
   "id": "469a35c0",
   "metadata": {},
   "outputs": [],
   "source": [
    "def reverse(array):\n",
    "    for i in range(0, int(len(array)/2)):\n",
    "        other = len(array)-i-1\n",
    "        temp = array[i]\n",
    "        array[i] = array[other]\n",
    "        array[other] = temp\n",
    "    print(array)"
   ]
  },
  {
   "cell_type": "markdown",
   "id": "45e56385",
   "metadata": {},
   "source": [
    "# interview question 7"
   ]
  },
  {
   "cell_type": "markdown",
   "id": "6e2bd904",
   "metadata": {},
   "source": [
    "# interview question 8"
   ]
  },
  {
   "cell_type": "code",
   "execution_count": 11,
   "id": "adaa94d5",
   "metadata": {},
   "outputs": [],
   "source": [
    "def factorial(n):\n",
    "    if n < 0:\n",
    "        return -1\n",
    "    elif n == 0:\n",
    "        return 1\n",
    "    else:\n",
    "        return n * factorial(n-1)"
   ]
  },
  {
   "cell_type": "markdown",
   "id": "1f6b12f7",
   "metadata": {},
   "source": [
    "# interview question 9"
   ]
  },
  {
   "cell_type": "code",
   "execution_count": 12,
   "id": "4008c1a0",
   "metadata": {},
   "outputs": [],
   "source": [
    "def allFib(n):\n",
    "    for i in range(n):\n",
    "        print(str(i)+\":, \" + str(fib(i)))\n",
    "    \n",
    "def fib(n):\n",
    "    if n <= 0:\n",
    "        return 0\n",
    "    elif n == 1:\n",
    "        return 1\n",
    "    return fib(n-1) + fib (n-2)"
   ]
  },
  {
   "cell_type": "markdown",
   "id": "2541ba7c",
   "metadata": {},
   "source": [
    "# interview question 10"
   ]
  },
  {
   "cell_type": "code",
   "execution_count": 13,
   "id": "69ff7926",
   "metadata": {},
   "outputs": [],
   "source": [
    "def powerOf2(n):\n",
    "    if n < 1:\n",
    "        return 0\n",
    "    elif n == 1:\n",
    "        print(1)\n",
    "        return 1\n",
    "    else:\n",
    "        prev = powerOf2(int(n/2))\n",
    "        curr = prev*2\n",
    "        print(curr)\n",
    "        return curr"
   ]
  },
  {
   "cell_type": "code",
   "execution_count": null,
   "id": "72bf92ac",
   "metadata": {},
   "outputs": [],
   "source": []
  }
 ],
 "metadata": {
  "kernelspec": {
   "display_name": "Python 3 (ipykernel)",
   "language": "python",
   "name": "python3"
  },
  "language_info": {
   "codemirror_mode": {
    "name": "ipython",
    "version": 3
   },
   "file_extension": ".py",
   "mimetype": "text/x-python",
   "name": "python",
   "nbconvert_exporter": "python",
   "pygments_lexer": "ipython3",
   "version": "3.9.12"
  }
 },
 "nbformat": 4,
 "nbformat_minor": 5
}
