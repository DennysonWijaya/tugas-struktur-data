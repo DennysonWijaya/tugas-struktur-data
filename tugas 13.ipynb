{
 "cells": [
  {
   "cell_type": "markdown",
   "id": "f48305ae",
   "metadata": {},
   "source": [
    "# Bellman Ford"
   ]
  },
  {
   "cell_type": "code",
   "execution_count": 1,
   "id": "1742a04a",
   "metadata": {},
   "outputs": [
    {
     "name": "stdout",
     "output_type": "stream",
     "text": [
      "Vertex Distance from Source\n",
      "  A  :     6\n",
      "  B  :     3\n",
      "  C  :     4\n",
      "  D  :     2\n",
      "  E  :     0\n"
     ]
    }
   ],
   "source": [
    "class Graph:\n",
    "\n",
    "    def __init__(self, vertices):\n",
    "        self.V = vertices   \n",
    "        self.graph = []     \n",
    "        self.nodes = []\n",
    "\n",
    "    def add_edge(self, s, d, w):\n",
    "        self.graph.append([s, d, w])\n",
    "    \n",
    "    def addNode(self,value):\n",
    "        self.nodes.append(value)\n",
    "\n",
    "    def print_solution(self, dist):\n",
    "        print(\"Vertex Distance from Source\")\n",
    "        for key, value in dist.items():\n",
    "            print('  ' + key, ' :    ', value)\n",
    "    \n",
    "    def bellmanFord(self, src):\n",
    "        dist = {i : float(\"Inf\") for i in self.nodes}\n",
    "        dist[src] = 0\n",
    "\n",
    "        for _ in range(self.V-1):\n",
    "            for s, d, w in self.graph:\n",
    "                if dist[s] != float(\"Inf\") and dist[s] + w < dist[d]:\n",
    "                    dist[d] = dist[s] + w\n",
    "        \n",
    "        for s, d, w in self.graph:\n",
    "            if dist[s] != float(\"Inf\") and dist[s] + w < dist[d]:\n",
    "                print(\"Graph contains negative cycle\")\n",
    "                return\n",
    "        \n",
    "\n",
    "        self.print_solution(dist)\n",
    "\n",
    "g = Graph(5)\n",
    "g.addNode(\"A\")\n",
    "g.addNode(\"B\")\n",
    "g.addNode(\"C\")\n",
    "g.addNode(\"D\")\n",
    "g.addNode(\"E\")\n",
    "g.add_edge(\"A\", \"C\", 6)\n",
    "g.add_edge(\"A\", \"D\", 6)\n",
    "g.add_edge(\"B\", \"A\", 3)\n",
    "g.add_edge(\"C\", \"D\", 1)\n",
    "g.add_edge(\"D\", \"C\", 2)\n",
    "g.add_edge(\"D\", \"B\", 1)\n",
    "g.add_edge(\"E\", \"B\", 4)\n",
    "g.add_edge(\"E\", \"D\", 2)\n",
    "g.bellmanFord(\"E\")"
   ]
  },
  {
   "cell_type": "markdown",
   "id": "c9beb645",
   "metadata": {},
   "source": []
  },
  {
   "cell_type": "markdown",
   "id": "f4a2958f",
   "metadata": {},
   "source": [
    "# Binary Search"
   ]
  },
  {
   "cell_type": "code",
   "execution_count": 3,
   "id": "08260b34",
   "metadata": {},
   "outputs": [
    {
     "name": "stdout",
     "output_type": "stream",
     "text": [
      "3\n"
     ]
    }
   ],
   "source": [
    "import math\n",
    "def binarySearch(array, value):\n",
    "    start = 0\n",
    "    end = len(array)-1\n",
    "    middle = math.floor((start+end)/2)\n",
    "    while not(array[middle]==value) and start<=end:\n",
    "        if value < array[middle]:\n",
    "            end = middle - 1\n",
    "        else:\n",
    "            start = middle + 1 \n",
    "        middle = math.floor((start+end)/2)\n",
    "        # print(start, middle, end)\n",
    "    if array[middle] == value:\n",
    "        return middle\n",
    "    else:\n",
    "        return -1\n",
    "        \n",
    "\n",
    "\n",
    "\n",
    "custArray = [8, 9, 12, 15, 17, 19, 20, 21, 28]\n",
    "print(binarySearch(custArray, 15))\n",
    "# [8, 9, 12, 15, 17, 19, 20, 21, 28]\n",
    "#  S              M               E\n",
    "#  S  M      E\n",
    "#        SM  E\n",
    "#            SME"
   ]
  },
  {
   "cell_type": "markdown",
   "id": "78b519f2",
   "metadata": {},
   "source": [
    "# Dijkstra"
   ]
  },
  {
   "cell_type": "code",
   "execution_count": 4,
   "id": "4ee703ac",
   "metadata": {},
   "outputs": [
    {
     "name": "stdout",
     "output_type": "stream",
     "text": [
      "The shortest path to the vertext is: 29\n",
      "G H C A "
     ]
    }
   ],
   "source": [
    "import heapq\n",
    "# class for edges\n",
    "\n",
    "class Edge:\n",
    "    def __init__(self, weight, start_vertex, target_vertex):\n",
    "        self.weight = weight\n",
    "        self.start_vertex = start_vertex\n",
    "        self.target_vertex = target_vertex\n",
    "\n",
    "# class for Nodes\n",
    "class Node:\n",
    "    def __init__(self, name):\n",
    "        self.name = name\n",
    "        self.visited = False\n",
    "        # previous node that we come to this node\n",
    "        self.predecessor = None\n",
    "        self.neighbors = []\n",
    "        self.min_distance = float(\"inf\")\n",
    "    \n",
    "    def __lt__(self, other_node):\n",
    "        return self.min_distance < other_node.min_distance\n",
    "    \n",
    "    def add_edge(self, weight, destination_vertex):\n",
    "        edge = Edge(weight, self, destination_vertex)\n",
    "        self.neighbors.append(edge)\n",
    "\n",
    "# Dijkstra Algorithm\n",
    "class Dijkstra:\n",
    "    def __init__(self):\n",
    "        self.heap = []\n",
    "    \n",
    "    def calculate(self, start_vertex):\n",
    "        start_vertex.min_distance = 0\n",
    "        heapq.heappush(self.heap, start_vertex)\n",
    "        \n",
    "        while self.heap:\n",
    "            # pop element with the lowest distance\n",
    "            actual_vertex = heapq.heappop(self.heap)\n",
    "            if actual_vertex.visited:\n",
    "                continue\n",
    "            #  consider the neighbors\n",
    "            for edge in actual_vertex.neighbors:\n",
    "                start = edge.start_vertex\n",
    "                target = edge.target_vertex\n",
    "                new_distance = start.min_distance + edge.weight\n",
    "                if new_distance < target.min_distance:\n",
    "                    target.min_distance = new_distance\n",
    "                    target.predecessor = start\n",
    "                    # update the heap\n",
    "                    heapq.heappush(self.heap, target)\n",
    "                    # [F-19, F-17]\n",
    "            actual_vertex.visited = True\n",
    "    \n",
    "    def get_shortest_path(self, vertex):\n",
    "        print(f\"The shortest path to the vertext is: {vertex.min_distance}\")\n",
    "        actual_vertex = vertex\n",
    "        while actual_vertex is not None:\n",
    "            print(actual_vertex.name, end=\" \")\n",
    "            actual_vertex = actual_vertex.predecessor\n",
    "\n",
    "\n",
    "\n",
    "# Step 1 - create nodes\n",
    "nodeA = Node(\"A\")\n",
    "nodeB = Node(\"B\")\n",
    "nodeC = Node(\"C\")\n",
    "nodeD = Node(\"D\")\n",
    "nodeE = Node(\"E\")\n",
    "nodeF = Node(\"F\")\n",
    "nodeG = Node(\"G\")\n",
    "nodeH = Node(\"H\")\n",
    "\n",
    "# Step 2 - create edges\n",
    "nodeA.add_edge(6, nodeB)\n",
    "nodeA.add_edge(10, nodeC)\n",
    "nodeA.add_edge(9, nodeD)\n",
    "\n",
    "nodeB.add_edge(5, nodeD)\n",
    "nodeB.add_edge(16, nodeE)\n",
    "nodeB.add_edge(13, nodeF)\n",
    "\n",
    "nodeC.add_edge(6, nodeD)\n",
    "nodeC.add_edge(5, nodeH)\n",
    "nodeC.add_edge(21, nodeG)\n",
    "\n",
    "nodeD.add_edge(8, nodeF)\n",
    "nodeD.add_edge(7, nodeH)\n",
    "\n",
    "nodeE.add_edge(10, nodeG)\n",
    "\n",
    "nodeF.add_edge(4, nodeE)\n",
    "nodeF.add_edge(12, nodeG)\n",
    "\n",
    "nodeH.add_edge(2, nodeF)\n",
    "nodeH.add_edge(14, nodeG)\n",
    "\n",
    "algorithm = Dijkstra()\n",
    "algorithm.calculate(nodeA)\n",
    "algorithm.get_shortest_path(nodeG)\n"
   ]
  },
  {
   "cell_type": "markdown",
   "id": "621209ec",
   "metadata": {},
   "source": [
    "# Dijkstra SSSP"
   ]
  },
  {
   "cell_type": "code",
   "execution_count": 5,
   "id": "d49c201d",
   "metadata": {},
   "outputs": [
    {
     "name": "stdout",
     "output_type": "stream",
     "text": [
      "({'A': 0, 'B': 2, 'C': 5, 'D': 3, 'E': 5, 'G': 14, 'F': 13}, defaultdict(<class 'list'>, {'B': ['A'], 'C': ['A'], 'D': ['B'], 'E': ['B'], 'G': ['E'], 'F': ['C']}))\n"
     ]
    }
   ],
   "source": [
    "from collections import defaultdict\n",
    "\n",
    "class Graph:\n",
    "    def __init__(self):\n",
    "        self.nodes = set()\n",
    "        self.edges = defaultdict(list)\n",
    "        self.distances = {}\n",
    "    \n",
    "    def addNode(self,value):\n",
    "        self.nodes.add(value)\n",
    "    \n",
    "    def addEdge(self, fromNode, toNode, distance):\n",
    "        self.edges[fromNode].append(toNode)\n",
    "        self.distances[(fromNode, toNode)] = distance\n",
    "\n",
    "\n",
    "def dijkstra(graph, initial):\n",
    "    visited = {initial : 0}\n",
    "    path = defaultdict(list)\n",
    "\n",
    "    nodes = set(graph.nodes)\n",
    "\n",
    "    while nodes:\n",
    "        minNode = None\n",
    "        for node in nodes:\n",
    "            if node in visited:\n",
    "                if minNode is None:\n",
    "                    minNode = node\n",
    "                elif visited[node] < visited[minNode]:\n",
    "                    minNode = node\n",
    "        if minNode is None:\n",
    "            break\n",
    "\n",
    "        nodes.remove(minNode)\n",
    "        currentWeight = visited[minNode]\n",
    "\n",
    "        for edge in graph.edges[minNode]:\n",
    "            weight = currentWeight + graph.distances[(minNode, edge)]\n",
    "            if edge not in visited or weight < visited[edge]:\n",
    "                visited[edge] = weight\n",
    "                path[edge].append(minNode)\n",
    "    \n",
    "    return visited, path\n",
    "\n",
    "customGraph = Graph()\n",
    "customGraph.addNode(\"A\")\n",
    "customGraph.addNode(\"B\")\n",
    "customGraph.addNode(\"C\")\n",
    "customGraph.addNode(\"D\")\n",
    "customGraph.addNode(\"E\")\n",
    "customGraph.addNode(\"F\")\n",
    "customGraph.addNode(\"G\")\n",
    "customGraph.addEdge(\"A\", \"B\", 2)\n",
    "customGraph.addEdge(\"A\", \"C\", 5)\n",
    "customGraph.addEdge(\"B\", \"C\", 6)\n",
    "customGraph.addEdge(\"B\", \"D\", 1)\n",
    "customGraph.addEdge(\"B\", \"E\", 3)\n",
    "customGraph.addEdge(\"C\", \"F\", 8)\n",
    "customGraph.addEdge(\"D\", \"E\", 4)\n",
    "customGraph.addEdge(\"E\", \"G\", 9)\n",
    "customGraph.addEdge(\"F\", \"G\", 7)\n",
    "\n",
    "print(dijkstra(customGraph, \"A\"))\n",
    "\n",
    "\n",
    "# See change the distance from d to e to 1 and from b to e to 6.\n",
    "# then to get to e from a ,\n",
    "# shortest path should be a b d e\n",
    "# but your code is giving a b e"
   ]
  },
  {
   "cell_type": "markdown",
   "id": "a1ac9da7",
   "metadata": {},
   "source": [
    "# Disjoint Set"
   ]
  },
  {
   "cell_type": "code",
   "execution_count": 7,
   "id": "e8f43884",
   "metadata": {},
   "outputs": [],
   "source": [
    "class DisjointSet:\n",
    "    def __init__(self, vertices):\n",
    "        self.vertices = vertices\n",
    "        self.parent = {}\n",
    "        for v in vertices:\n",
    "            self.parent[v] = v\n",
    "        self.rank = dict.fromkeys(vertices, 0)\n",
    "    \n",
    "    def find(self, item):\n",
    "        if self.parent[item] == item:\n",
    "            return item\n",
    "        else:\n",
    "            return self.find(self.parent[item])\n",
    "    \n",
    "    def union(self, x, y):\n",
    "        xroot = self.find(x)\n",
    "        yroot = self.find(y)\n",
    "        if self.rank[xroot] < self.rank[yroot]:\n",
    "            self.parent[xroot] = yroot\n",
    "        elif self.rank[xroot] > self.rank[yroot]:\n",
    "            self.parent[yroot] = xroot\n",
    "        else:\n",
    "            self.parent[yroot] = xroot\n",
    "            self.rank[xroot] += 1\n",
    "\n",
    "# vertices = [\"A\", \"B\", \"C\", \"D\", \"E\"]\n",
    "\n",
    "# ds = DisjointSet(vertices)\n",
    "# ds.union(\"A\", \"B\")\n",
    "# ds.union(\"A\", \"C\")\n",
    "# print(ds.find(\"A\"))"
   ]
  },
  {
   "cell_type": "markdown",
   "id": "113825ed",
   "metadata": {},
   "source": [
    "# Floyd Warshall"
   ]
  },
  {
   "cell_type": "code",
   "execution_count": 8,
   "id": "7fd75968",
   "metadata": {},
   "outputs": [
    {
     "name": "stdout",
     "output_type": "stream",
     "text": [
      "0  3  4  1   \n",
      "5  0  1  6   \n",
      "4  7  0  5   \n",
      "7  2  3  1   \n"
     ]
    }
   ],
   "source": [
    "INF = 9999\n",
    "# Printing the solution\n",
    "def printSolution(nV, distance):\n",
    "    for i in range(nV):\n",
    "        for j in range(nV):\n",
    "            if(distance[i][j] == INF):\n",
    "                print(\"INF\", end=\" \")\n",
    "            else:\n",
    "                print(distance[i][j], end=\"  \")\n",
    "        print(\" \")\n",
    "\n",
    "\n",
    "def floydWarshall(nV, G):\n",
    "    distance = G\n",
    "    for k in range(nV):\n",
    "        for i in range(nV):\n",
    "            for j in range(nV):\n",
    "                distance[i][j] = min(distance[i][j], distance[i][k]+distance[k][j])\n",
    "    \n",
    "    printSolution(nV, distance)\n",
    "\n",
    "G = [[0, 8, INF,1],\n",
    "    [INF, 0, 1,INF],\n",
    "    [4, INF, 0,INF],\n",
    "    [INF, 2, 9,1]\n",
    "    ]\n",
    "\n",
    "floydWarshall(4, G)"
   ]
  },
  {
   "cell_type": "markdown",
   "id": "730fec17",
   "metadata": {},
   "source": [
    "# Kruskal"
   ]
  },
  {
   "cell_type": "code",
   "execution_count": 10,
   "id": "cc0e5deb",
   "metadata": {},
   "outputs": [
    {
     "ename": "ModuleNotFoundError",
     "evalue": "No module named 'DisjointSet'",
     "output_type": "error",
     "traceback": [
      "\u001b[1;31m---------------------------------------------------------------------------\u001b[0m",
      "\u001b[1;31mModuleNotFoundError\u001b[0m                       Traceback (most recent call last)",
      "\u001b[1;32m~\\AppData\\Local\\Temp\\ipykernel_17592\\3590066632.py\u001b[0m in \u001b[0;36m<module>\u001b[1;34m\u001b[0m\n\u001b[1;32m----> 1\u001b[1;33m \u001b[1;32mimport\u001b[0m \u001b[0mDisjointSet\u001b[0m \u001b[1;32mas\u001b[0m \u001b[0mdst\u001b[0m\u001b[1;33m\u001b[0m\u001b[1;33m\u001b[0m\u001b[0m\n\u001b[0m\u001b[0;32m      2\u001b[0m \u001b[1;33m\u001b[0m\u001b[0m\n\u001b[0;32m      3\u001b[0m \u001b[1;32mclass\u001b[0m \u001b[0mGraph\u001b[0m\u001b[1;33m:\u001b[0m\u001b[1;33m\u001b[0m\u001b[1;33m\u001b[0m\u001b[0m\n\u001b[0;32m      4\u001b[0m     \u001b[1;32mdef\u001b[0m \u001b[0m__init__\u001b[0m\u001b[1;33m(\u001b[0m\u001b[0mself\u001b[0m\u001b[1;33m,\u001b[0m \u001b[0mvertices\u001b[0m\u001b[1;33m)\u001b[0m\u001b[1;33m:\u001b[0m\u001b[1;33m\u001b[0m\u001b[1;33m\u001b[0m\u001b[0m\n\u001b[0;32m      5\u001b[0m         \u001b[0mself\u001b[0m\u001b[1;33m.\u001b[0m\u001b[0mV\u001b[0m \u001b[1;33m=\u001b[0m \u001b[0mvertices\u001b[0m\u001b[1;33m\u001b[0m\u001b[1;33m\u001b[0m\u001b[0m\n",
      "\u001b[1;31mModuleNotFoundError\u001b[0m: No module named 'DisjointSet'"
     ]
    }
   ],
   "source": [
    "import DisjointSet as dst\n",
    "\n",
    "class Graph:\n",
    "    def __init__(self, vertices):\n",
    "        self.V = vertices\n",
    "        self.graph = []\n",
    "        self.nodes = []\n",
    "        self.MST = []\n",
    "\n",
    "    def addEdge(self, s, d, w):\n",
    "        self.graph.append([s, d, w])\n",
    "    \n",
    "    def addNode(self, value):\n",
    "        self.nodes.append(value)\n",
    "    \n",
    "    def printSolution(self,s,d,w):\n",
    "        for s, d, w in self.MST:\n",
    "            print(\"%s - %s: %s\" % (s, d, w))\n",
    "    \n",
    "    def kruskalAlgo(self):\n",
    "        i, e = 0, 0\n",
    "        ds = dst.DisjointSet(self.nodes)\n",
    "        self.graph = sorted(self.graph, key=lambda item: item[2])\n",
    "        while e < self.V - 1:\n",
    "            s, d, w = self.graph[i]\n",
    "            i += 1\n",
    "            x = ds.find(s)\n",
    "            y = ds.find(d)\n",
    "            if x != y:\n",
    "                e += 1\n",
    "                self.MST.append([s,d,w])\n",
    "                ds.union(x,y)\n",
    "        self.printSolution(s,d,w)\n",
    "\n",
    "g = Graph(5)\n",
    "g.addNode(\"A\")\n",
    "g.addNode(\"B\")\n",
    "g.addNode(\"C\")\n",
    "g.addNode(\"D\")\n",
    "g.addNode(\"E\")\n",
    "g.addEdge(\"A\", \"B\", 5)\n",
    "g.addEdge(\"A\", \"C\", 13)\n",
    "g.addEdge(\"A\", \"E\", 15)\n",
    "g.addEdge(\"B\", \"A\", 5)\n",
    "g.addEdge(\"B\", \"C\", 10)\n",
    "g.addEdge(\"B\", \"D\", 8)\n",
    "g.addEdge(\"C\", \"A\", 13)\n",
    "g.addEdge(\"C\", \"B\", 10)\n",
    "g.addEdge(\"C\", \"E\", 20)\n",
    "g.addEdge(\"C\", \"D\", 6)\n",
    "g.addEdge(\"D\", \"B\", 8)\n",
    "g.addEdge(\"D\", \"C\", 6)\n",
    "g.addEdge(\"E\", \"A\", 15)\n",
    "g.addEdge(\"E\", \"C\", 20)\n",
    "\n",
    "g.kruskalAlgo()\n"
   ]
  },
  {
   "cell_type": "markdown",
   "id": "81ad2ad3",
   "metadata": {},
   "source": [
    "# Linear Search"
   ]
  },
  {
   "cell_type": "code",
   "execution_count": 11,
   "id": "386241b6",
   "metadata": {},
   "outputs": [
    {
     "name": "stdout",
     "output_type": "stream",
     "text": [
      "4\n"
     ]
    }
   ],
   "source": [
    "def linearSearch(array, value):\n",
    "    for i in range(len(array)):\n",
    "        if array[i] == value:\n",
    "            return i\n",
    "    return -1\n",
    "\n",
    "\n",
    "\n",
    "print(linearSearch([20,40,30,50,90], 90))"
   ]
  },
  {
   "cell_type": "markdown",
   "id": "b6ff2e13",
   "metadata": {},
   "source": [
    "# Prims"
   ]
  },
  {
   "cell_type": "code",
   "execution_count": 12,
   "id": "542febab",
   "metadata": {},
   "outputs": [
    {
     "name": "stdout",
     "output_type": "stream",
     "text": [
      "Edge : Weight\n",
      "A -> B: 10\n",
      "B -> D: 5\n",
      "D -> E: 8\n",
      "E -> C: 6\n"
     ]
    }
   ],
   "source": [
    "import sys\n",
    "class Graph:\n",
    "    def __init__(self, vertexNum, edges, nodes):\n",
    "        self.edges = edges\n",
    "        self.nodes = nodes\n",
    "        self.vertexNum = vertexNum\n",
    "        self.MST = []\n",
    "    \n",
    "    def printSolution(self):\n",
    "        print(\"Edge : Weight\")\n",
    "        for s, d, w in self.MST:\n",
    "            print(\"%s -> %s: %s\" % (s, d, w))\n",
    "    \n",
    "    def primsAlgo(self):\n",
    "        visited = [0]*self.vertexNum\n",
    "        edgeNum=0\n",
    "        visited[0]=True\n",
    "        while edgeNum<self.vertexNum-1:\n",
    "            min = sys.maxsize\n",
    "            for i in range(self.vertexNum):\n",
    "                if visited[i]:\n",
    "                    for j in range(self.vertexNum):\n",
    "                        if ((not visited[j]) and self.edges[i][j]):\n",
    "                            if min > self.edges[i][j]:\n",
    "                                min = self.edges[i][j]\n",
    "                                s = i\n",
    "                                d = j\n",
    "            self.MST.append([self.nodes[s], self.nodes[d], self.edges[s][d]])\n",
    "            visited[d] = True\n",
    "            edgeNum += 1\n",
    "        self.printSolution()\n",
    "\n",
    "\n",
    "\n",
    "edges = [[0, 10, 20, 0, 0],\n",
    "\t\t[10, 0, 30, 5, 0],\n",
    "\t\t[20, 30, 0, 15, 6],\n",
    "\t\t[0, 5, 15, 0, 8],\n",
    "\t\t[0, 0, 6, 8, 0]]\n",
    "nodes = [\"A\",\"B\",\"C\",\"D\",\"E\"]\n",
    "g = Graph(5, edges, nodes)\n",
    "g.primsAlgo()"
   ]
  },
  {
   "cell_type": "markdown",
   "id": "5f5c91da",
   "metadata": {},
   "source": [
    "# SSSP"
   ]
  },
  {
   "cell_type": "code",
   "execution_count": 13,
   "id": "1cc039f2",
   "metadata": {},
   "outputs": [
    {
     "name": "stdout",
     "output_type": "stream",
     "text": [
      "None\n"
     ]
    }
   ],
   "source": [
    "class Graph:\n",
    "    def __init__(self, gdict=None):\n",
    "        if gdict is None:\n",
    "            gdict = {}\n",
    "        self.gdict = gdict\n",
    "    \n",
    "    def bfs(self, start, end):\n",
    "        queue = []\n",
    "        queue.append([start])\n",
    "        while queue:\n",
    "            path = queue.pop(0)\n",
    "            node = path[-1]\n",
    "            if node == end:\n",
    "                return path\n",
    "            for adjacent in self.gdict.get(node, []):\n",
    "                new_path = list(path)\n",
    "                new_path.append(adjacent)\n",
    "                queue.append(new_path)\n",
    "\n",
    "customDict = { \"a\" : [\"b\", \"c\"],\n",
    "               \"b\" : [\"d\", \"g\"],\n",
    "               \"c\" : [\"d\", \"e\"],\n",
    "               \"d\" : [\"f\"],\n",
    "               \"e\" : [\"f\"],\n",
    "               \"g\" : [\"f\"]\n",
    "            }\n",
    "\n",
    "g = Graph(customDict)\n",
    "print(g.bfs(\"a\", \"z\"))"
   ]
  },
  {
   "cell_type": "code",
   "execution_count": null,
   "id": "948d9ab2",
   "metadata": {},
   "outputs": [],
   "source": []
  }
 ],
 "metadata": {
  "kernelspec": {
   "display_name": "Python 3 (ipykernel)",
   "language": "python",
   "name": "python3"
  },
  "language_info": {
   "codemirror_mode": {
    "name": "ipython",
    "version": 3
   },
   "file_extension": ".py",
   "mimetype": "text/x-python",
   "name": "python",
   "nbconvert_exporter": "python",
   "pygments_lexer": "ipython3",
   "version": "3.9.13"
  }
 },
 "nbformat": 4,
 "nbformat_minor": 5
}
